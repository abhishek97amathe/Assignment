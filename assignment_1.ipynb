{
  "nbformat": 4,
  "nbformat_minor": 0,
  "metadata": {
    "colab": {
      "provenance": [],
      "include_colab_link": true
    },
    "kernelspec": {
      "name": "python3",
      "display_name": "Python 3"
    },
    "language_info": {
      "name": "python"
    }
  },
  "cells": [
    {
      "cell_type": "markdown",
      "metadata": {
        "id": "view-in-github",
        "colab_type": "text"
      },
      "source": [
        "<a href=\"https://colab.research.google.com/github/abhishek97amathe/Assignment/blob/test/assignment_1.ipynb\" target=\"_parent\"><img src=\"https://colab.research.google.com/assets/colab-badge.svg\" alt=\"Open In Colab\"/></a>"
      ]
    },
    {
      "cell_type": "markdown",
      "source": [
        "## Assigment Questions"
      ],
      "metadata": {
        "id": "eod9wNoKwpYF"
      }
    },
    {
      "cell_type": "code",
      "source": [
        "# Question 1\n",
        " a ='I am the Boss'\n",
        "\n",
        "print(a[::-1])"
      ],
      "metadata": {
        "id": "1t3lS7Pfdq4Y",
        "colab": {
          "base_uri": "https://localhost:8080/"
        },
        "outputId": "10dec693-84a4-41af-d90e-3e8f350028c8"
      },
      "execution_count": null,
      "outputs": [
        {
          "output_type": "stream",
          "name": "stdout",
          "text": [
            "ssoB eht ma I\n"
          ]
        }
      ]
    },
    {
      "cell_type": "code",
      "source": [
        "# Question 2\n",
        "\n"
      ],
      "metadata": {
        "id": "QFVreP5vxAyp"
      },
      "execution_count": 2,
      "outputs": []
    },
    {
      "cell_type": "code",
      "source": [
        "# Question 3\n",
        "\n",
        "c= 'EVE'\n",
        "c_r = (c[::-1])\n",
        "if c == c_r:\n",
        "  print('The given word is palindrome')\n",
        "else :\n",
        "  print('The given word is not a palindrome')"
      ],
      "metadata": {
        "colab": {
          "base_uri": "https://localhost:8080/"
        },
        "id": "J56r2a3QxyKO",
        "outputId": "642e0fd1-efa5-4a0e-ceba-e7905ad299eb"
      },
      "execution_count": null,
      "outputs": [
        {
          "output_type": "stream",
          "name": "stdout",
          "text": [
            "The given word is palindrome\n"
          ]
        }
      ]
    },
    {
      "cell_type": "code",
      "source": [
        "# Question 4\n",
        "\n",
        "d = 'listen'\n",
        "\n",
        "d_1 ='silent'\n",
        "\n",
        "if sorted(d) == sorted(d_1):\n",
        "  print('The given word is anagrams')\n",
        "else:\n",
        "  print('The given word is not anagrams')"
      ],
      "metadata": {
        "colab": {
          "base_uri": "https://localhost:8080/"
        },
        "id": "ZYHHDZLoy_ad",
        "outputId": "a5c07f71-8ac2-41bf-f40e-6b16c907b3a4"
      },
      "execution_count": null,
      "outputs": [
        {
          "output_type": "stream",
          "name": "stdout",
          "text": [
            "The given word is anagrams\n"
          ]
        }
      ]
    },
    {
      "cell_type": "markdown",
      "source": [
        "Question 5 pending !!!!"
      ],
      "metadata": {
        "id": "OXMX0Z7C16c2"
      }
    },
    {
      "cell_type": "code",
      "source": [
        "# Question 6\n",
        "\n",
        "e = 'a,a,a,n,n'\n",
        "e_e = e.split(',')\n",
        "\n",
        "print(e_e)"
      ],
      "metadata": {
        "colab": {
          "base_uri": "https://localhost:8080/"
        },
        "id": "WsTPsDK51Hog",
        "outputId": "382361af-a1a9-402b-9b52-489908af24cf"
      },
      "execution_count": null,
      "outputs": [
        {
          "output_type": "stream",
          "name": "stdout",
          "text": [
            "['a', 'a', 'a', 'n', 'n']\n"
          ]
        }
      ]
    },
    {
      "cell_type": "code",
      "source": [
        "e_e.count('a'),e_e.count('n')"
      ],
      "metadata": {
        "colab": {
          "base_uri": "https://localhost:8080/"
        },
        "id": "1x1Rp69PmV78",
        "outputId": "1fce470e-9aa2-44ad-a0a4-da03e0f94123"
      },
      "execution_count": null,
      "outputs": [
        {
          "output_type": "execute_result",
          "data": {
            "text/plain": [
              "(3, 2)"
            ]
          },
          "metadata": {},
          "execution_count": 17
        }
      ]
    },
    {
      "cell_type": "code",
      "source": [
        "# Question 7\n",
        "\n",
        "f={'Apple', 'Apple 15', 'Samung S24','Apple'}\n",
        "\n",
        "print(f)"
      ],
      "metadata": {
        "colab": {
          "base_uri": "https://localhost:8080/"
        },
        "id": "zGGBDOlImnWk",
        "outputId": "523c81e8-4b5a-4441-a9e7-dbfaba94f16f"
      },
      "execution_count": null,
      "outputs": [
        {
          "output_type": "stream",
          "name": "stdout",
          "text": [
            "{'Apple 15', 'Samung S24', 'Apple'}\n"
          ]
        }
      ]
    },
    {
      "cell_type": "code",
      "source": [
        "# Question 8\n",
        "\n",
        "g= 'nexon is good car, but i love gt vitrus'\n",
        "\n",
        "g.upper()"
      ],
      "metadata": {
        "colab": {
          "base_uri": "https://localhost:8080/",
          "height": 35
        },
        "id": "WConCS7Rn1Zk",
        "outputId": "285851cd-8086-4589-b504-28d0b1c414e6"
      },
      "execution_count": null,
      "outputs": [
        {
          "output_type": "execute_result",
          "data": {
            "text/plain": [
              "'NEXON IS GOOD CAR, BUT I LOVE GT VITRUS'"
            ],
            "application/vnd.google.colaboratory.intrinsic+json": {
              "type": "string"
            }
          },
          "metadata": {},
          "execution_count": 34
        }
      ]
    },
    {
      "cell_type": "code",
      "source": [
        "# Question 9\n",
        "\n",
        "h= 'nexon, altors, tiago, harrier, punch'\n",
        "\n",
        "h_1= h.count(' ')+1\n",
        "\n",
        "print(h_1)\n"
      ],
      "metadata": {
        "colab": {
          "base_uri": "https://localhost:8080/"
        },
        "id": "A-JVsLZcqmrR",
        "outputId": "9804c1f8-82ca-41d2-e56b-cc7c907f206e"
      },
      "execution_count": null,
      "outputs": [
        {
          "output_type": "stream",
          "name": "stdout",
          "text": [
            "5\n"
          ]
        }
      ]
    },
    {
      "cell_type": "code",
      "source": [
        "# question 10\n",
        "\n",
        "add1 = 'good boy'\n",
        "add2 = 'bad boy'\n",
        "\n",
        "print(add1,add2)"
      ],
      "metadata": {
        "colab": {
          "base_uri": "https://localhost:8080/"
        },
        "id": "mkUsJubprT9a",
        "outputId": "bd06c558-e623-42ba-ad22-67a41200c916"
      },
      "execution_count": null,
      "outputs": [
        {
          "output_type": "stream",
          "name": "stdout",
          "text": [
            "good boy bad boy\n"
          ]
        }
      ]
    },
    {
      "cell_type": "code",
      "source": [
        "# question 11\n",
        "\n",
        "my_car =['gt vitrus', 'taigun', 'range rover','vela', 'safari', 'harrier']\n",
        "\n",
        "my_car.remove('range rover')\n",
        "\n",
        "print(my_car)"
      ],
      "metadata": {
        "id": "8-fH1ra62BI3",
        "colab": {
          "base_uri": "https://localhost:8080/"
        },
        "outputId": "d1899c5a-a8da-49f2-b10a-7a18162a7275"
      },
      "execution_count": null,
      "outputs": [
        {
          "output_type": "stream",
          "name": "stdout",
          "text": [
            "['gt vitrus', 'taigun', 'vela', 'safari', 'harrier']\n"
          ]
        }
      ]
    },
    {
      "cell_type": "code",
      "source": [
        "my_car.pop(-2)\n"
      ],
      "metadata": {
        "colab": {
          "base_uri": "https://localhost:8080/",
          "height": 35
        },
        "id": "_R1KjrBxGmvx",
        "outputId": "aae23cba-e2ba-40e9-ca1b-4a2c1875f05d"
      },
      "execution_count": null,
      "outputs": [
        {
          "output_type": "execute_result",
          "data": {
            "text/plain": [
              "'taigun'"
            ],
            "application/vnd.google.colaboratory.intrinsic+json": {
              "type": "string"
            }
          },
          "metadata": {},
          "execution_count": 7
        }
      ]
    },
    {
      "cell_type": "code",
      "source": [
        "# question 12\n",
        "\n",
        "nums =[10,20,30,44,55,99]\n",
        "nums.sort()\n",
        "nums[-2]\n"
      ],
      "metadata": {
        "colab": {
          "base_uri": "https://localhost:8080/"
        },
        "id": "V6dJ2vGSHl2k",
        "outputId": "9c29fa3d-f854-479b-aa7c-274b3ae9ffa0"
      },
      "execution_count": null,
      "outputs": [
        {
          "output_type": "execute_result",
          "data": {
            "text/plain": [
              "55"
            ]
          },
          "metadata": {},
          "execution_count": 27
        }
      ]
    },
    {
      "cell_type": "code",
      "source": [
        "# Question 13"
      ],
      "metadata": {
        "id": "yoIoDupwK5yv"
      },
      "execution_count": null,
      "outputs": []
    },
    {
      "cell_type": "code",
      "source": [
        "#Question 14"
      ],
      "metadata": {
        "id": "XWibfV-bSGJU"
      },
      "execution_count": null,
      "outputs": []
    },
    {
      "cell_type": "code",
      "source": [
        "# Question 15\n",
        "list1 =[22,23,22,26,25.5,36,36,35,30,44]\n",
        "list(set(list1))\n"
      ],
      "metadata": {
        "colab": {
          "base_uri": "https://localhost:8080/"
        },
        "id": "lrK1fLERSJfD",
        "outputId": "3e8432fd-e3e9-464d-d1ad-f677abfe23e4"
      },
      "execution_count": null,
      "outputs": [
        {
          "output_type": "execute_result",
          "data": {
            "text/plain": [
              "[35, 36, 44, 22, 23, 25.5, 26, 30]"
            ]
          },
          "metadata": {},
          "execution_count": 31
        }
      ]
    },
    {
      "cell_type": "code",
      "source": [
        "# Question 16\n",
        "a=[99,102,106,110,113]\n",
        "i=0\n",
        "if a[i]<= a[i+1]:\n",
        "  print('list in Ascending order',a)\n",
        "elif a[i]>= a[i+1]:\n",
        "   print('list in Dscending order',a)\n",
        "else:\n",
        "  print('Number are not sorted')"
      ],
      "metadata": {
        "id": "MFWpnObkTyRf",
        "colab": {
          "base_uri": "https://localhost:8080/"
        },
        "outputId": "65694cc9-02ba-4119-b5e6-1261c9ff7119"
      },
      "execution_count": null,
      "outputs": [
        {
          "output_type": "stream",
          "name": "stdout",
          "text": [
            "list in Ascending order [99, 102, 106, 110, 113]\n"
          ]
        }
      ]
    },
    {
      "cell_type": "code",
      "source": [
        "# Question 17\n",
        "a1 =[0,0.5,0.75]\n",
        "b1 =[1,2,3]\n",
        "\n",
        "c = sorted(a1+b1)\n",
        "\n",
        "print(c)"
      ],
      "metadata": {
        "colab": {
          "base_uri": "https://localhost:8080/"
        },
        "id": "1XWTiENkjEQg",
        "outputId": "8c950ae4-f26e-4505-aa1b-85f3954abb39"
      },
      "execution_count": null,
      "outputs": [
        {
          "output_type": "stream",
          "name": "stdout",
          "text": [
            "[0, 0.5, 0.75, 1, 2, 3]\n"
          ]
        }
      ]
    },
    {
      "cell_type": "code",
      "source": [
        "# Question 18\n",
        "m1 = ['Mango','Watermelon','Grapes','Puppaya','pineapple']\n",
        "m2 = ['Mango', 'chikoo','Orange','Pineapple','Grapes']\n",
        "\n",
        "m =set(m1) & set(m2)\n",
        "\n",
        "print(m)"
      ],
      "metadata": {
        "colab": {
          "base_uri": "https://localhost:8080/"
        },
        "id": "cBWnU-n9jHVH",
        "outputId": "0d542d3f-00b0-449c-bff8-a2406cb80126"
      },
      "execution_count": null,
      "outputs": [
        {
          "output_type": "stream",
          "name": "stdout",
          "text": [
            "{'Grapes', 'Mango'}\n"
          ]
        }
      ]
    },
    {
      "cell_type": "code",
      "source": [
        "# Question 19\n",
        "p1 = [99,72,56,11,36]\n",
        "p2 = [11,23,42,36,65]\n",
        "\n",
        "p3 =set(p1) | set(p2)\n",
        "\n",
        "print(p3)"
      ],
      "metadata": {
        "colab": {
          "base_uri": "https://localhost:8080/"
        },
        "id": "L0qsVRryjKTe",
        "outputId": "e58d6d99-1aa9-4eb3-a497-84a60535b626"
      },
      "execution_count": null,
      "outputs": [
        {
          "output_type": "stream",
          "name": "stdout",
          "text": [
            "{65, 99, 36, 72, 42, 11, 23, 56}\n"
          ]
        }
      ]
    },
    {
      "cell_type": "code",
      "source": [
        "# Question 20\n",
        "car = ['Vitrus','Taigun','Nexon','Creta','Exter']\n",
        "\n",
        "car1= set(car)\n",
        "car2=list(car1)\n",
        "\n",
        "print(car2)"
      ],
      "metadata": {
        "colab": {
          "base_uri": "https://localhost:8080/"
        },
        "id": "a_hmQpeNj7gn",
        "outputId": "35324c98-288f-4c25-fb9c-2196329d1564"
      },
      "execution_count": null,
      "outputs": [
        {
          "output_type": "stream",
          "name": "stdout",
          "text": [
            "['Nexon', 'Creta', 'Taigun', 'Vitrus', 'Exter']\n"
          ]
        }
      ]
    },
    {
      "cell_type": "code",
      "source": [
        "# Question 21\n",
        "tup1= tuple(input(' Enter the tup 1 value' ))\n",
        "tup2= tuple(input(' Enter the tup 2 value' ))\n",
        "\n",
        "s= set(tup1) & set(tup2)\n",
        "tup = tuple(s)\n",
        "\n",
        "print(tup)"
      ],
      "metadata": {
        "colab": {
          "base_uri": "https://localhost:8080/"
        },
        "id": "19HicuINkN71",
        "outputId": "6d65f4dd-7975-4aa9-fa49-5fbb0bd751f4"
      },
      "execution_count": null,
      "outputs": [
        {
          "output_type": "stream",
          "name": "stdout",
          "text": [
            " Enter the tup 1 value123456 \n",
            " Enter the tup 2 value987654\n",
            "('5', '4', '6')\n"
          ]
        }
      ]
    },
    {
      "cell_type": "code",
      "source": [
        "# Question 22\n",
        "\n",
        "s1 =set(input('Enter the set value'))\n",
        "s2 =set(input('Enter the set value'))\n",
        "\n",
        "s = s1 & s2\n",
        "\n",
        "print(s)"
      ],
      "metadata": {
        "colab": {
          "base_uri": "https://localhost:8080/"
        },
        "id": "EB2z3NBxkPUN",
        "outputId": "ad2b32e4-117b-4d9e-d894-f05996126686"
      },
      "execution_count": null,
      "outputs": [
        {
          "output_type": "stream",
          "name": "stdout",
          "text": [
            "Enter the set value1\n",
            "Enter the set value21\n",
            "{'1'}\n"
          ]
        }
      ]
    },
    {
      "cell_type": "code",
      "source": [
        "# Question 23\n",
        "\n",
        "t1= tuple(input(' Enter the tuple 1 value'))\n",
        "t2= tuple(input(' Enter the tuple 2 value'))\n",
        "\n",
        "t =t1 + t2\n",
        "\n",
        "print(t)"
      ],
      "metadata": {
        "colab": {
          "base_uri": "https://localhost:8080/"
        },
        "id": "-jvmYHyvkRpN",
        "outputId": "62e3ffdb-b03f-4fa9-a6eb-9d090f1b35cd"
      },
      "execution_count": null,
      "outputs": [
        {
          "output_type": "stream",
          "name": "stdout",
          "text": [
            " Enter the tuple 1 value3\n",
            " Enter the tuple 2 value4\n",
            "('3', '4')\n"
          ]
        }
      ]
    },
    {
      "cell_type": "code",
      "source": [
        "# Question 24\n",
        "\n",
        "Str1 = str(input(' Enter the str1 value'))\n",
        "Str2 = str(input(' Enter the str2 value'))\n",
        "\n",
        "string_difference =set(Str1) - set(Str2)\n",
        "\n",
        "print('string_difference = ',string_difference)"
      ],
      "metadata": {
        "id": "swK0LKthlZFL",
        "colab": {
          "base_uri": "https://localhost:8080/"
        },
        "outputId": "f8c924fc-760f-47e1-97d8-5fcbb6f06346"
      },
      "execution_count": null,
      "outputs": [
        {
          "output_type": "stream",
          "name": "stdout",
          "text": [
            " Enter the str1 value1234\n",
            " Enter the str2 value9876\n",
            "string_difference =  {'1', '2', '4', '3'}\n"
          ]
        }
      ]
    },
    {
      "cell_type": "code",
      "source": [
        "#Question 26\n",
        "set_1 = set(input('Enter the set data :' , ))\n",
        "set_2 = set(input('Enter the set data :' , ))\n",
        "\n",
        "set_union = set_1 | set_2\n",
        "\n",
        "set_union"
      ],
      "metadata": {
        "colab": {
          "base_uri": "https://localhost:8080/"
        },
        "id": "tq56POC5UJb0",
        "outputId": "79a40c5d-75e7-46cd-e214-7642baac3106"
      },
      "execution_count": null,
      "outputs": [
        {
          "name": "stdout",
          "output_type": "stream",
          "text": [
            "Enter the set data :258\n",
            "Enter the set data :369\n"
          ]
        },
        {
          "output_type": "execute_result",
          "data": {
            "text/plain": [
              "{'2', '3', '5', '6', '8', '9'}"
            ]
          },
          "metadata": {},
          "execution_count": 29
        }
      ]
    },
    {
      "cell_type": "code",
      "source": [
        "#Question 27\n",
        "tup = (1, 2, 3, 4, 5, 6, 7, 8, 9, 10)\n",
        "\n",
        "# Unpack the tuple into individual variables\n",
        "a, b, c, d, e, f, g, h, i, j = tup\n",
        "\n",
        "max_val = max(a, b, c, d, e, f, g, h, i, j)\n",
        "min_val = min(a, b, c, d, e, f, g, h, i, j)\n",
        "\n",
        "print('Maximum value:', max_val)\n",
        "print('Minimum value:', min_val)"
      ],
      "metadata": {
        "colab": {
          "base_uri": "https://localhost:8080/"
        },
        "id": "WcIb7k0JW32Z",
        "outputId": "85ddcb84-1cdb-4be8-afa3-13f1f4f1b82d"
      },
      "execution_count": null,
      "outputs": [
        {
          "output_type": "stream",
          "name": "stdout",
          "text": [
            "Maximum value: 10\n",
            "Minimum value: 1\n"
          ]
        }
      ]
    },
    {
      "cell_type": "code",
      "source": [
        "#Question 28\n",
        "\n",
        "set_1 ={0,8,10,16,11,19,20}\n",
        "set_2 = {2,5,8,11,14,19,22}\n",
        "\n",
        "# Union,Intrsection & Differnce of set_1 & set_2\n",
        "print('Union :',set_1 | set_2)\n",
        "print('Intersection :',set_1 - set_2)\n",
        "print('Difference :',set_1 & set_2)\n"
      ],
      "metadata": {
        "colab": {
          "base_uri": "https://localhost:8080/"
        },
        "id": "2DYJYUKpXNxx",
        "outputId": "13dc04fe-59c6-4f1a-8d22-7b8e605696bf"
      },
      "execution_count": null,
      "outputs": [
        {
          "output_type": "stream",
          "name": "stdout",
          "text": [
            "Union : {0, 2, 5, 8, 10, 11, 14, 16, 19, 20, 22}\n",
            "Intersection : {0, 16, 10, 20}\n",
            "Difference : {8, 11, 19}\n"
          ]
        }
      ]
    },
    {
      "cell_type": "code",
      "source": [
        "#Question 29\n",
        "\n",
        "tup_5=tuple(input('tuple value: '))\n",
        "element_count= tuple(input('Occurcence of value'))\n",
        "\n",
        "count=0\n",
        "\n",
        "for i in tup_5:\n",
        "  if i == element_count:\n",
        "    count =+1\n",
        "\n",
        "print(count)"
      ],
      "metadata": {
        "id": "R-wfb75-dxGS",
        "colab": {
          "base_uri": "https://localhost:8080/"
        },
        "outputId": "575930ae-74ad-4603-ea63-fd2bb6840d60"
      },
      "execution_count": null,
      "outputs": [
        {
          "output_type": "stream",
          "name": "stdout",
          "text": [
            "tuple value: 1,2,3,2,4,2,5,2\n",
            "Occurcence of value2\n",
            "0\n"
          ]
        }
      ]
    },
    {
      "cell_type": "code",
      "source": [
        "#Question 30\n",
        "\n",
        "set_1 =set(input('enter the set '))\n",
        "set_2 =set(input('enter the set '))\n",
        "\n",
        "#Symmetric_Differnce of set_1 & set_2\n",
        "\n",
        "print('Symmetric_difference:',set_1 ^ set_2)\n"
      ],
      "metadata": {
        "colab": {
          "base_uri": "https://localhost:8080/"
        },
        "id": "NnuKy4kzvfYj",
        "outputId": "d695356d-9058-4c55-af8a-07cd6443591f"
      },
      "execution_count": null,
      "outputs": [
        {
          "output_type": "stream",
          "name": "stdout",
          "text": [
            "enter the set 1,3,5\n",
            "enter the set 2,3,4\n",
            "Symmetric_difference: {'1', '5', '2', '4'}\n"
          ]
        }
      ]
    },
    {
      "cell_type": "code",
      "source": [
        "# Question 32\n",
        "d1 ={'a':'meteor','b':'hunter', 'c': 'classic'}\n",
        "d2 = {'c': 'intersecptor', 'd':'himalayan','e':'shotgun'}\n",
        "d =(d1,d2)\n",
        "print(d)"
      ],
      "metadata": {
        "id": "AhOfPAra0FZH",
        "colab": {
          "base_uri": "https://localhost:8080/"
        },
        "outputId": "5a0127c1-b84b-4d0a-9be6-bb623a591c31"
      },
      "execution_count": null,
      "outputs": [
        {
          "output_type": "stream",
          "name": "stdout",
          "text": [
            "({'a': 'meteor', 'b': 'hunter', 'c': 'classic'}, {'c': 'intersecptor', 'd': 'himalayan', 'e': 'shotgun'})\n"
          ]
        }
      ]
    }
  ]
}