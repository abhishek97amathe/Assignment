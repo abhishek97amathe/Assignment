{
  "nbformat": 4,
  "nbformat_minor": 0,
  "metadata": {
    "colab": {
      "provenance": []
    },
    "kernelspec": {
      "name": "python3",
      "display_name": "Python 3"
    },
    "language_info": {
      "name": "python"
    }
  },
  "cells": [
    {
      "cell_type": "code",
      "execution_count": 2,
      "metadata": {
        "id": "nCTwWOIj3vUi"
      },
      "outputs": [],
      "source": [
        "import numpy as np"
      ]
    },
    {
      "cell_type": "markdown",
      "source": [
        "1. Create a NumPy array 'arr' of integers from 0 to 5 and print its data type."
      ],
      "metadata": {
        "id": "fbR5Yzg34yzM"
      }
    },
    {
      "cell_type": "code",
      "source": [
        "b =[0,1,2,3,4,5]\n",
        "\n",
        "arr = np.array(b)\n",
        "\n",
        "arr.dtype"
      ],
      "metadata": {
        "colab": {
          "base_uri": "https://localhost:8080/"
        },
        "id": "Z8fUkyRW3423",
        "outputId": "dd1ebd7b-2953-4ffd-af1b-2e0e642efd94"
      },
      "execution_count": null,
      "outputs": [
        {
          "output_type": "execute_result",
          "data": {
            "text/plain": [
              "dtype('int64')"
            ]
          },
          "metadata": {},
          "execution_count": 2
        }
      ]
    },
    {
      "cell_type": "markdown",
      "source": [
        " Given a NumPy array 'arr', check if its data type is float64."
      ],
      "metadata": {
        "id": "L-O9lpdI43y0"
      }
    },
    {
      "cell_type": "code",
      "source": [
        "#given\n",
        "arr = np.array([1.5,2.6,3.7])\n",
        "arr.dtype == np.float64"
      ],
      "metadata": {
        "colab": {
          "base_uri": "https://localhost:8080/"
        },
        "id": "DPptTfhc4xP_",
        "outputId": "e6938da4-f0d7-4a82-e559-da778d3c42e9"
      },
      "execution_count": null,
      "outputs": [
        {
          "output_type": "execute_result",
          "data": {
            "text/plain": [
              "True"
            ]
          },
          "metadata": {},
          "execution_count": 3
        }
      ]
    },
    {
      "cell_type": "markdown",
      "source": [
        "3. Create a NumPy array 'arr' with a data type of complex128 containing three complex numbers"
      ],
      "metadata": {
        "id": "_0vSCUVZ5c4c"
      }
    },
    {
      "cell_type": "code",
      "source": [
        "arr = np.array([1+2j,3+4j,5+6j])\n",
        "arr.dtype"
      ],
      "metadata": {
        "colab": {
          "base_uri": "https://localhost:8080/"
        },
        "id": "hubIX4Al7u8K",
        "outputId": "cd1ac1fd-0092-4af5-d5fa-a70253640110"
      },
      "execution_count": null,
      "outputs": [
        {
          "output_type": "execute_result",
          "data": {
            "text/plain": [
              "dtype('complex128')"
            ]
          },
          "metadata": {},
          "execution_count": 7
        }
      ]
    },
    {
      "cell_type": "markdown",
      "source": [
        "4. Convert an existing NumPy array 'arr' of integers to float32 data typ"
      ],
      "metadata": {
        "id": "cdUEz1g176AI"
      }
    },
    {
      "cell_type": "code",
      "source": [
        "arr = np.array([1,2,3,4,5])\n",
        "arr = arr.astype(np.float32)\n",
        "arr.dtype"
      ],
      "metadata": {
        "colab": {
          "base_uri": "https://localhost:8080/"
        },
        "id": "KXmm-zVo7-5Q",
        "outputId": "5612ea47-5569-4ab7-c1e1-3c16a51e80b7"
      },
      "execution_count": null,
      "outputs": [
        {
          "output_type": "execute_result",
          "data": {
            "text/plain": [
              "dtype('float32')"
            ]
          },
          "metadata": {},
          "execution_count": 8
        }
      ]
    },
    {
      "cell_type": "markdown",
      "source": [
        "5. Given a NumPy array 'arr' with float64 data type, convert it to float32 to reduce decimal precision"
      ],
      "metadata": {
        "id": "iPwersZh8Lo_"
      }
    },
    {
      "cell_type": "code",
      "source": [
        "arr1 =np.array([22.65,33.478,55.7411])\n",
        "arr1=arr1.astype(np.float32)\n",
        "arr1"
      ],
      "metadata": {
        "colab": {
          "base_uri": "https://localhost:8080/"
        },
        "id": "IMIcIr038LWf",
        "outputId": "038a3bae-ba39-4c01-9e5a-cb4c9623c381"
      },
      "execution_count": null,
      "outputs": [
        {
          "output_type": "execute_result",
          "data": {
            "text/plain": [
              "array([22.65  , 33.478 , 55.7411], dtype=float32)"
            ]
          },
          "metadata": {},
          "execution_count": 9
        }
      ]
    },
    {
      "cell_type": "markdown",
      "source": [
        "6. Write a function array_attributes that takes a NumPy array as input and returns its shape, size, and data\n",
        "type"
      ],
      "metadata": {
        "id": "2vTkpJ2x8rsZ"
      }
    },
    {
      "cell_type": "code",
      "source": [
        "arr = np.array([[1,2,3],[4,5,6]])\n",
        "def array_attributes(arr):\n",
        "    shape = arr.shape\n",
        "    size = arr.size\n",
        "    dtype = arr.dtype\n",
        "    return shape,size,dtype\n",
        "\n",
        "array_attributes(arr)"
      ],
      "metadata": {
        "colab": {
          "base_uri": "https://localhost:8080/"
        },
        "id": "CO99OwUe8u2Y",
        "outputId": "9c839578-2ba6-49df-a9d0-a0ae9bfc11eb"
      },
      "execution_count": null,
      "outputs": [
        {
          "output_type": "execute_result",
          "data": {
            "text/plain": [
              "((2, 3), 6, dtype('int64'))"
            ]
          },
          "metadata": {},
          "execution_count": 14
        }
      ]
    },
    {
      "cell_type": "markdown",
      "source": [
        "7. Create a function array_dimension that takes a NumPy array as input and returns its dimensionality"
      ],
      "metadata": {
        "id": "6kqrNqz09m83"
      }
    },
    {
      "cell_type": "code",
      "source": [
        "arr = np.array([[1,2,3],[4,5,6]])\n",
        "def array_dimension(arr):\n",
        "  dimension = arr.ndim\n",
        "  return dimension\n",
        "\n",
        "array_dimension(arr)"
      ],
      "metadata": {
        "colab": {
          "base_uri": "https://localhost:8080/"
        },
        "id": "mR5lsvlK9rqX",
        "outputId": "2261b165-eed0-4a9a-d59d-03929582e14d"
      },
      "execution_count": null,
      "outputs": [
        {
          "output_type": "execute_result",
          "data": {
            "text/plain": [
              "2"
            ]
          },
          "metadata": {},
          "execution_count": 20
        }
      ]
    },
    {
      "cell_type": "markdown",
      "source": [
        "8. Design a function item_size_info that takes a NumPy array as input and returns the item size and the total\n",
        "size in bytes"
      ],
      "metadata": {
        "id": "gas0lKcS-KYA"
      }
    },
    {
      "cell_type": "code",
      "source": [
        "arr = np.array([[98,88,78],[68,58,48]])\n",
        "def item_size_info(arr):\n",
        "  item_size = arr.itemsize\n",
        "  total_size = arr.nbytes\n",
        "  return item_size,total_size\n",
        "\n",
        "item_size_info(arr)"
      ],
      "metadata": {
        "colab": {
          "base_uri": "https://localhost:8080/"
        },
        "id": "zqKOwJuK-R4-",
        "outputId": "ce6b29ca-de1c-4f3c-8632-1ce58ad3f42c"
      },
      "execution_count": null,
      "outputs": [
        {
          "output_type": "execute_result",
          "data": {
            "text/plain": [
              "(8, 48)"
            ]
          },
          "metadata": {},
          "execution_count": 22
        }
      ]
    },
    {
      "cell_type": "markdown",
      "source": [
        "9. Create a function array_strides that takes a NumPy array as input and returns the strides of the array"
      ],
      "metadata": {
        "id": "laAMaQ_3-8cn"
      }
    },
    {
      "cell_type": "code",
      "source": [
        "arr = np.array([[21,22,23,24],[25,26,27,28]])\n",
        "def array_strides(arr):\n",
        "  strides = arr.strides\n",
        "  return strides\n",
        "\n",
        "array_strides(arr)"
      ],
      "metadata": {
        "id": "2Ed4jc5hLXCS"
      },
      "execution_count": null,
      "outputs": []
    },
    {
      "cell_type": "markdown",
      "source": [
        "10. Design a function shape_stride_relationship that takes a NumPy array as input and returns the shape\n",
        "and strides of the array."
      ],
      "metadata": {
        "id": "o5k9RhpfL9iw"
      }
    },
    {
      "cell_type": "code",
      "source": [
        "def shape_stride_relationship(arr):\n",
        "  shape =arr.shape\n",
        "  strides = arr.strides\n",
        "  return shape,strides\n",
        "\n",
        "shape_stride_relationship(arr)"
      ],
      "metadata": {
        "colab": {
          "base_uri": "https://localhost:8080/"
        },
        "id": "abzOT2j5L5m5",
        "outputId": "ccd5d11d-372f-4d71-ddbc-b546901a3773"
      },
      "execution_count": null,
      "outputs": [
        {
          "output_type": "execute_result",
          "data": {
            "text/plain": [
              "((2, 4), (32, 8))"
            ]
          },
          "metadata": {},
          "execution_count": 30
        }
      ]
    },
    {
      "cell_type": "markdown",
      "source": [
        "11. Create a function `create_zeros_array` that takes an integer `n` as input and returns a NumPy array of\n",
        "zeros with `n` elements"
      ],
      "metadata": {
        "id": "EPWUfFpPMobq"
      }
    },
    {
      "cell_type": "code",
      "source": [
        "def create_zeros_array(n):\n",
        "  zeros = np.zeros(n)\n",
        "  return zeros\n",
        "\n",
        "create_zeros_array(6)"
      ],
      "metadata": {
        "colab": {
          "base_uri": "https://localhost:8080/"
        },
        "id": "Z2uJ78xNMrci",
        "outputId": "e7afab36-424c-44e2-eb8a-b91a9bb6aa1b"
      },
      "execution_count": null,
      "outputs": [
        {
          "output_type": "execute_result",
          "data": {
            "text/plain": [
              "array([0., 0., 0., 0., 0., 0.])"
            ]
          },
          "metadata": {},
          "execution_count": 33
        }
      ]
    },
    {
      "cell_type": "markdown",
      "source": [
        "12. Write a function `create_ones_matrix` that takes integers `rows` and `cols` as inputs and generates a 2D\n",
        "NumPy array filled with ones of size `rows x cols`."
      ],
      "metadata": {
        "id": "oG5BxEJnNJBp"
      }
    },
    {
      "cell_type": "code",
      "source": [
        "def create_ones_matrix(m,n):\n",
        "  ones = np.ones((m,n))\n",
        "  return ones\n",
        "\n",
        "create_ones_matrix(3,5)"
      ],
      "metadata": {
        "colab": {
          "base_uri": "https://localhost:8080/"
        },
        "id": "KWyVY005M8nw",
        "outputId": "263bd22d-c075-4364-9e2f-eb3d74bee1e6"
      },
      "execution_count": null,
      "outputs": [
        {
          "output_type": "execute_result",
          "data": {
            "text/plain": [
              "array([[1., 1., 1., 1., 1.],\n",
              "       [1., 1., 1., 1., 1.],\n",
              "       [1., 1., 1., 1., 1.]])"
            ]
          },
          "metadata": {},
          "execution_count": 34
        }
      ]
    },
    {
      "cell_type": "markdown",
      "source": [
        "13. Write a function `generate_range_array` that takes three integers start, stop, and step as arguments and\n",
        "creates a NumPy array with a range starting from `start`, ending at stop (exclusive), and with the specified\n",
        "`step`."
      ],
      "metadata": {
        "id": "nITV-nTsNd1O"
      }
    },
    {
      "cell_type": "code",
      "source": [
        "def generate_range_array(n,m,o):\n",
        "  arr = np.arange(n,m,o)\n",
        "  return arr\n",
        "\n",
        "generate_range_array(0,20,2)"
      ],
      "metadata": {
        "colab": {
          "base_uri": "https://localhost:8080/"
        },
        "id": "yvocvUQjNdlH",
        "outputId": "537f7484-a363-4607-88d4-59775ad7819d"
      },
      "execution_count": null,
      "outputs": [
        {
          "output_type": "execute_result",
          "data": {
            "text/plain": [
              "array([ 0,  2,  4,  6,  8, 10, 12, 14, 16, 18])"
            ]
          },
          "metadata": {},
          "execution_count": 35
        }
      ]
    },
    {
      "cell_type": "markdown",
      "source": [
        "14. Design a function `generate_linear_space` that takes two floats `start`, `stop`, and an integer `num` as\n",
        "arguments and generates a NumPy array with num equally spaced values between `start` and `stop`\n",
        "(inclusive)."
      ],
      "metadata": {
        "id": "ZnKmdqt_OBcV"
      }
    },
    {
      "cell_type": "code",
      "source": [
        "def generate_linear_space(n,m,o):\n",
        "  arr = np.linspace(n,m,o)\n",
        "  return arr\n",
        "\n",
        "generate_linear_space(0,10,5)"
      ],
      "metadata": {
        "colab": {
          "base_uri": "https://localhost:8080/"
        },
        "id": "sguwnjhLOFsM",
        "outputId": "584cbaab-2c16-47c8-8861-f7828b9ba502"
      },
      "execution_count": null,
      "outputs": [
        {
          "output_type": "execute_result",
          "data": {
            "text/plain": [
              "array([ 0. ,  2.5,  5. ,  7.5, 10. ])"
            ]
          },
          "metadata": {},
          "execution_count": 39
        }
      ]
    },
    {
      "cell_type": "markdown",
      "source": [
        "15. Create a function `create_identity_matrix` that takes an integer `n` as input and generates a square\n",
        "identity matrix of size `n x n` using `numpy.eye`"
      ],
      "metadata": {
        "id": "4XPrTXwCOsbu"
      }
    },
    {
      "cell_type": "code",
      "source": [
        "def create_identity_matrix(n):\n",
        "  arr= np.eye(n)\n",
        "  return arr\n",
        "\n",
        "create_identity_matrix(5)"
      ],
      "metadata": {
        "colab": {
          "base_uri": "https://localhost:8080/"
        },
        "id": "CyupMEYeOsK1",
        "outputId": "3878fa3a-b063-44c7-b994-85a915ecef94"
      },
      "execution_count": null,
      "outputs": [
        {
          "output_type": "execute_result",
          "data": {
            "text/plain": [
              "array([[1., 0., 0., 0., 0.],\n",
              "       [0., 1., 0., 0., 0.],\n",
              "       [0., 0., 1., 0., 0.],\n",
              "       [0., 0., 0., 1., 0.],\n",
              "       [0., 0., 0., 0., 1.]])"
            ]
          },
          "metadata": {},
          "execution_count": 40
        }
      ]
    },
    {
      "cell_type": "markdown",
      "source": [
        "16. Write a function that takes a Python list and converts it into a NumPy array"
      ],
      "metadata": {
        "id": "Y6StekVQOr5v"
      }
    },
    {
      "cell_type": "code",
      "source": [
        "lists =[22.5,33.5,44.5]\n",
        "def list_to_array(lists):\n",
        "  arr = np.array(lists)\n",
        "  return arr\n",
        "\n",
        "list_to_array(lists)"
      ],
      "metadata": {
        "colab": {
          "base_uri": "https://localhost:8080/"
        },
        "id": "Ve_j2YOgPFOl",
        "outputId": "570a648e-7946-4263-8974-c12d8a2d0427"
      },
      "execution_count": null,
      "outputs": [
        {
          "output_type": "execute_result",
          "data": {
            "text/plain": [
              "array([22.5, 33.5, 44.5])"
            ]
          },
          "metadata": {},
          "execution_count": 41
        }
      ]
    },
    {
      "cell_type": "markdown",
      "source": [
        "17. Create a NumPy array and demonstrate the use of `numpy.view` to create a new array object with the\n",
        "same data."
      ],
      "metadata": {
        "id": "ONCn6V8kPizF"
      }
    },
    {
      "cell_type": "code",
      "source": [
        "arr = np.array([9,5,1])\n",
        "arr_view = arr.view()\n",
        "arr_view[0] = 3\n",
        "arr_view"
      ],
      "metadata": {
        "colab": {
          "base_uri": "https://localhost:8080/"
        },
        "id": "mid17IwDPdk_",
        "outputId": "098b7a43-2e69-4fb5-f6c8-862078bf1b8d"
      },
      "execution_count": null,
      "outputs": [
        {
          "output_type": "execute_result",
          "data": {
            "text/plain": [
              "array([3, 5, 1])"
            ]
          },
          "metadata": {},
          "execution_count": 48
        }
      ]
    },
    {
      "cell_type": "markdown",
      "source": [
        "18. Write a function that takes two NumPy arrays and concatenates them along a specified axis."
      ],
      "metadata": {
        "id": "zz85jHVdQWNW"
      }
    },
    {
      "cell_type": "code",
      "source": [
        "#create 2 numpy array\n",
        "arr = np.array([1,2,3])\n",
        "arr1 = np.array([6,5,4])\n",
        "#write the function to concatenats\n",
        "def concat_array(arr,arr1):\n",
        "  concat = np.concatenate((arr,arr1))\n",
        "  return concat\n",
        "\n",
        "concat_array(arr,arr1)\n"
      ],
      "metadata": {
        "colab": {
          "base_uri": "https://localhost:8080/"
        },
        "id": "C5iXaHdyQUL0",
        "outputId": "7c608734-0ab8-4a7d-bbcf-4f343ecb18e3"
      },
      "execution_count": null,
      "outputs": [
        {
          "output_type": "execute_result",
          "data": {
            "text/plain": [
              "array([1, 2, 3, 6, 5, 4])"
            ]
          },
          "metadata": {},
          "execution_count": 49
        }
      ]
    },
    {
      "cell_type": "markdown",
      "source": [
        "19. Create two NumPy arrays with different shapes and concatenate them horizontally using `numpy.concatenate`."
      ],
      "metadata": {
        "id": "dgfGAST3bc_V"
      }
    },
    {
      "cell_type": "code",
      "source": [
        "arr = np.array([[1,2,3],[4,5,6]])\n",
        "arr1 = np.array([[7,8,9,13],[10,11,12,14]])\n",
        "\n",
        "def concat_array(arr,arr1):\n",
        "  concat = np.concatenate((arr,arr1),axis=1)\n",
        "  return concat\n",
        "\n",
        "concat_array(arr,arr1)"
      ],
      "metadata": {
        "colab": {
          "base_uri": "https://localhost:8080/"
        },
        "id": "TlNnMghjb3Xc",
        "outputId": "9bfeaa9c-5305-4e0b-889a-c086af2c685b"
      },
      "execution_count": null,
      "outputs": [
        {
          "output_type": "execute_result",
          "data": {
            "text/plain": [
              "array([[ 1,  2,  3,  7,  8,  9, 13],\n",
              "       [ 4,  5,  6, 10, 11, 12, 14]])"
            ]
          },
          "metadata": {},
          "execution_count": 51
        }
      ]
    },
    {
      "cell_type": "markdown",
      "source": [
        "20. Write a function that vertically stacks multiple NumPy arrays given as a list"
      ],
      "metadata": {
        "id": "CV9BJeR1cRhs"
      }
    },
    {
      "cell_type": "code",
      "source": [
        "lists = [np.array([1,2,3]),np.array([4,5,6]),np.array([7,8,9])]\n",
        "def stack_array(lists):\n",
        "  stack = np.vstack(lists)\n",
        "  return stack\n",
        "\n",
        "stack_array(lists)"
      ],
      "metadata": {
        "colab": {
          "base_uri": "https://localhost:8080/"
        },
        "id": "nMFyTJG3cVVM",
        "outputId": "e27491a7-f291-4b42-bec8-d3cc86181417"
      },
      "execution_count": null,
      "outputs": [
        {
          "output_type": "execute_result",
          "data": {
            "text/plain": [
              "array([[1, 2, 3],\n",
              "       [4, 5, 6],\n",
              "       [7, 8, 9]])"
            ]
          },
          "metadata": {},
          "execution_count": 53
        }
      ]
    },
    {
      "cell_type": "markdown",
      "source": [
        "21. Write a Python function using NumPy to create an array of integers within a specified range (inclusive) with a given step size."
      ],
      "metadata": {
        "id": "oJkqPQwJdEFk"
      }
    },
    {
      "cell_type": "code",
      "source": [
        "def create_array(n,m,o):\n",
        "  arr =np.arange(n,m,o)\n",
        "  return arr\n",
        "\n",
        "create_array(0,10,2)"
      ],
      "metadata": {
        "colab": {
          "base_uri": "https://localhost:8080/"
        },
        "id": "R8MnQ1i0cxC2",
        "outputId": "5123a1b4-9234-42e5-da01-f847155344c6"
      },
      "execution_count": null,
      "outputs": [
        {
          "output_type": "execute_result",
          "data": {
            "text/plain": [
              "array([0, 2, 4, 6, 8])"
            ]
          },
          "metadata": {},
          "execution_count": 54
        }
      ]
    },
    {
      "cell_type": "markdown",
      "source": [
        " 22. Write a Python function using NumPy to generate an array of 10 equally spaced values between 0 and 1\n",
        "(inclusive)."
      ],
      "metadata": {
        "id": "VCn7dTlFdZs6"
      }
    },
    {
      "cell_type": "code",
      "source": [
        "def create_array(n):\n",
        "  arr = np.linspace(0,1,n)\n",
        "  return arr\n",
        "\n",
        "create_array(10)"
      ],
      "metadata": {
        "colab": {
          "base_uri": "https://localhost:8080/"
        },
        "id": "y9LalfHddTxC",
        "outputId": "29e2685e-33c5-4318-f86e-d881ccc3dbe4"
      },
      "execution_count": null,
      "outputs": [
        {
          "output_type": "execute_result",
          "data": {
            "text/plain": [
              "array([0.        , 0.11111111, 0.22222222, 0.33333333, 0.44444444,\n",
              "       0.55555556, 0.66666667, 0.77777778, 0.88888889, 1.        ])"
            ]
          },
          "metadata": {},
          "execution_count": 55
        }
      ]
    },
    {
      "cell_type": "markdown",
      "source": [
        "23. Write a Python function using NumPy to create an array of 5 logarithmically spaced values between 1 and\n",
        "1000 (inclusive)"
      ],
      "metadata": {
        "id": "r5CWjqPVdz4o"
      }
    },
    {
      "cell_type": "code",
      "source": [
        "def create_log_array(n):\n",
        "  arr = np.logspace(1,1000,n)\n",
        "  return arr\n",
        "\n",
        "create_log_array(5)"
      ],
      "metadata": {
        "colab": {
          "base_uri": "https://localhost:8080/"
        },
        "id": "sHEO7YiRdyW3",
        "outputId": "d9ac0d69-5d04-4587-b129-7d1a204a9318"
      },
      "execution_count": null,
      "outputs": [
        {
          "output_type": "stream",
          "name": "stderr",
          "text": [
            "/usr/local/lib/python3.10/dist-packages/numpy/core/function_base.py:298: RuntimeWarning: overflow encountered in power\n",
            "  return _nx.power(base, y)\n"
          ]
        },
        {
          "output_type": "execute_result",
          "data": {
            "text/plain": [
              "array([1.00000000e+001, 5.62341325e+250,             inf,             inf,\n",
              "                   inf])"
            ]
          },
          "metadata": {},
          "execution_count": 56
        }
      ]
    },
    {
      "cell_type": "markdown",
      "source": [
        "24. Create a Pandas DataFrame using a NumPy array that contains 5 rows and 3 columns, where the values\n",
        "are random integers between 1 and 100."
      ],
      "metadata": {
        "id": "lF3oLiSUeVMU"
      }
    },
    {
      "cell_type": "code",
      "source": [
        "import pandas as pd"
      ],
      "metadata": {
        "id": "OM_1TW12eKXA"
      },
      "execution_count": null,
      "outputs": []
    },
    {
      "cell_type": "code",
      "source": [
        "arr =np.random.randint(1,100,(5,3))\n",
        "df = pd.DataFrame(arr)\n",
        "df"
      ],
      "metadata": {
        "colab": {
          "base_uri": "https://localhost:8080/",
          "height": 206
        },
        "id": "BD5UaB4eerhJ",
        "outputId": "f8006415-a90c-42e5-aa9c-f260a76eb8f6"
      },
      "execution_count": null,
      "outputs": [
        {
          "output_type": "execute_result",
          "data": {
            "text/plain": [
              "    0   1   2\n",
              "0  18  26  42\n",
              "1  28  36   7\n",
              "2  76  25  53\n",
              "3  85  84  59\n",
              "4  72  42  44"
            ],
            "text/html": [
              "\n",
              "  <div id=\"df-2568342a-e984-4986-934d-6a09c50c10ce\" class=\"colab-df-container\">\n",
              "    <div>\n",
              "<style scoped>\n",
              "    .dataframe tbody tr th:only-of-type {\n",
              "        vertical-align: middle;\n",
              "    }\n",
              "\n",
              "    .dataframe tbody tr th {\n",
              "        vertical-align: top;\n",
              "    }\n",
              "\n",
              "    .dataframe thead th {\n",
              "        text-align: right;\n",
              "    }\n",
              "</style>\n",
              "<table border=\"1\" class=\"dataframe\">\n",
              "  <thead>\n",
              "    <tr style=\"text-align: right;\">\n",
              "      <th></th>\n",
              "      <th>0</th>\n",
              "      <th>1</th>\n",
              "      <th>2</th>\n",
              "    </tr>\n",
              "  </thead>\n",
              "  <tbody>\n",
              "    <tr>\n",
              "      <th>0</th>\n",
              "      <td>18</td>\n",
              "      <td>26</td>\n",
              "      <td>42</td>\n",
              "    </tr>\n",
              "    <tr>\n",
              "      <th>1</th>\n",
              "      <td>28</td>\n",
              "      <td>36</td>\n",
              "      <td>7</td>\n",
              "    </tr>\n",
              "    <tr>\n",
              "      <th>2</th>\n",
              "      <td>76</td>\n",
              "      <td>25</td>\n",
              "      <td>53</td>\n",
              "    </tr>\n",
              "    <tr>\n",
              "      <th>3</th>\n",
              "      <td>85</td>\n",
              "      <td>84</td>\n",
              "      <td>59</td>\n",
              "    </tr>\n",
              "    <tr>\n",
              "      <th>4</th>\n",
              "      <td>72</td>\n",
              "      <td>42</td>\n",
              "      <td>44</td>\n",
              "    </tr>\n",
              "  </tbody>\n",
              "</table>\n",
              "</div>\n",
              "    <div class=\"colab-df-buttons\">\n",
              "\n",
              "  <div class=\"colab-df-container\">\n",
              "    <button class=\"colab-df-convert\" onclick=\"convertToInteractive('df-2568342a-e984-4986-934d-6a09c50c10ce')\"\n",
              "            title=\"Convert this dataframe to an interactive table.\"\n",
              "            style=\"display:none;\">\n",
              "\n",
              "  <svg xmlns=\"http://www.w3.org/2000/svg\" height=\"24px\" viewBox=\"0 -960 960 960\">\n",
              "    <path d=\"M120-120v-720h720v720H120Zm60-500h600v-160H180v160Zm220 220h160v-160H400v160Zm0 220h160v-160H400v160ZM180-400h160v-160H180v160Zm440 0h160v-160H620v160ZM180-180h160v-160H180v160Zm440 0h160v-160H620v160Z\"/>\n",
              "  </svg>\n",
              "    </button>\n",
              "\n",
              "  <style>\n",
              "    .colab-df-container {\n",
              "      display:flex;\n",
              "      gap: 12px;\n",
              "    }\n",
              "\n",
              "    .colab-df-convert {\n",
              "      background-color: #E8F0FE;\n",
              "      border: none;\n",
              "      border-radius: 50%;\n",
              "      cursor: pointer;\n",
              "      display: none;\n",
              "      fill: #1967D2;\n",
              "      height: 32px;\n",
              "      padding: 0 0 0 0;\n",
              "      width: 32px;\n",
              "    }\n",
              "\n",
              "    .colab-df-convert:hover {\n",
              "      background-color: #E2EBFA;\n",
              "      box-shadow: 0px 1px 2px rgba(60, 64, 67, 0.3), 0px 1px 3px 1px rgba(60, 64, 67, 0.15);\n",
              "      fill: #174EA6;\n",
              "    }\n",
              "\n",
              "    .colab-df-buttons div {\n",
              "      margin-bottom: 4px;\n",
              "    }\n",
              "\n",
              "    [theme=dark] .colab-df-convert {\n",
              "      background-color: #3B4455;\n",
              "      fill: #D2E3FC;\n",
              "    }\n",
              "\n",
              "    [theme=dark] .colab-df-convert:hover {\n",
              "      background-color: #434B5C;\n",
              "      box-shadow: 0px 1px 3px 1px rgba(0, 0, 0, 0.15);\n",
              "      filter: drop-shadow(0px 1px 2px rgba(0, 0, 0, 0.3));\n",
              "      fill: #FFFFFF;\n",
              "    }\n",
              "  </style>\n",
              "\n",
              "    <script>\n",
              "      const buttonEl =\n",
              "        document.querySelector('#df-2568342a-e984-4986-934d-6a09c50c10ce button.colab-df-convert');\n",
              "      buttonEl.style.display =\n",
              "        google.colab.kernel.accessAllowed ? 'block' : 'none';\n",
              "\n",
              "      async function convertToInteractive(key) {\n",
              "        const element = document.querySelector('#df-2568342a-e984-4986-934d-6a09c50c10ce');\n",
              "        const dataTable =\n",
              "          await google.colab.kernel.invokeFunction('convertToInteractive',\n",
              "                                                    [key], {});\n",
              "        if (!dataTable) return;\n",
              "\n",
              "        const docLinkHtml = 'Like what you see? Visit the ' +\n",
              "          '<a target=\"_blank\" href=https://colab.research.google.com/notebooks/data_table.ipynb>data table notebook</a>'\n",
              "          + ' to learn more about interactive tables.';\n",
              "        element.innerHTML = '';\n",
              "        dataTable['output_type'] = 'display_data';\n",
              "        await google.colab.output.renderOutput(dataTable, element);\n",
              "        const docLink = document.createElement('div');\n",
              "        docLink.innerHTML = docLinkHtml;\n",
              "        element.appendChild(docLink);\n",
              "      }\n",
              "    </script>\n",
              "  </div>\n",
              "\n",
              "\n",
              "<div id=\"df-c1e6bfb9-ad4f-406c-934c-872e33b83d18\">\n",
              "  <button class=\"colab-df-quickchart\" onclick=\"quickchart('df-c1e6bfb9-ad4f-406c-934c-872e33b83d18')\"\n",
              "            title=\"Suggest charts\"\n",
              "            style=\"display:none;\">\n",
              "\n",
              "<svg xmlns=\"http://www.w3.org/2000/svg\" height=\"24px\"viewBox=\"0 0 24 24\"\n",
              "     width=\"24px\">\n",
              "    <g>\n",
              "        <path d=\"M19 3H5c-1.1 0-2 .9-2 2v14c0 1.1.9 2 2 2h14c1.1 0 2-.9 2-2V5c0-1.1-.9-2-2-2zM9 17H7v-7h2v7zm4 0h-2V7h2v10zm4 0h-2v-4h2v4z\"/>\n",
              "    </g>\n",
              "</svg>\n",
              "  </button>\n",
              "\n",
              "<style>\n",
              "  .colab-df-quickchart {\n",
              "      --bg-color: #E8F0FE;\n",
              "      --fill-color: #1967D2;\n",
              "      --hover-bg-color: #E2EBFA;\n",
              "      --hover-fill-color: #174EA6;\n",
              "      --disabled-fill-color: #AAA;\n",
              "      --disabled-bg-color: #DDD;\n",
              "  }\n",
              "\n",
              "  [theme=dark] .colab-df-quickchart {\n",
              "      --bg-color: #3B4455;\n",
              "      --fill-color: #D2E3FC;\n",
              "      --hover-bg-color: #434B5C;\n",
              "      --hover-fill-color: #FFFFFF;\n",
              "      --disabled-bg-color: #3B4455;\n",
              "      --disabled-fill-color: #666;\n",
              "  }\n",
              "\n",
              "  .colab-df-quickchart {\n",
              "    background-color: var(--bg-color);\n",
              "    border: none;\n",
              "    border-radius: 50%;\n",
              "    cursor: pointer;\n",
              "    display: none;\n",
              "    fill: var(--fill-color);\n",
              "    height: 32px;\n",
              "    padding: 0;\n",
              "    width: 32px;\n",
              "  }\n",
              "\n",
              "  .colab-df-quickchart:hover {\n",
              "    background-color: var(--hover-bg-color);\n",
              "    box-shadow: 0 1px 2px rgba(60, 64, 67, 0.3), 0 1px 3px 1px rgba(60, 64, 67, 0.15);\n",
              "    fill: var(--button-hover-fill-color);\n",
              "  }\n",
              "\n",
              "  .colab-df-quickchart-complete:disabled,\n",
              "  .colab-df-quickchart-complete:disabled:hover {\n",
              "    background-color: var(--disabled-bg-color);\n",
              "    fill: var(--disabled-fill-color);\n",
              "    box-shadow: none;\n",
              "  }\n",
              "\n",
              "  .colab-df-spinner {\n",
              "    border: 2px solid var(--fill-color);\n",
              "    border-color: transparent;\n",
              "    border-bottom-color: var(--fill-color);\n",
              "    animation:\n",
              "      spin 1s steps(1) infinite;\n",
              "  }\n",
              "\n",
              "  @keyframes spin {\n",
              "    0% {\n",
              "      border-color: transparent;\n",
              "      border-bottom-color: var(--fill-color);\n",
              "      border-left-color: var(--fill-color);\n",
              "    }\n",
              "    20% {\n",
              "      border-color: transparent;\n",
              "      border-left-color: var(--fill-color);\n",
              "      border-top-color: var(--fill-color);\n",
              "    }\n",
              "    30% {\n",
              "      border-color: transparent;\n",
              "      border-left-color: var(--fill-color);\n",
              "      border-top-color: var(--fill-color);\n",
              "      border-right-color: var(--fill-color);\n",
              "    }\n",
              "    40% {\n",
              "      border-color: transparent;\n",
              "      border-right-color: var(--fill-color);\n",
              "      border-top-color: var(--fill-color);\n",
              "    }\n",
              "    60% {\n",
              "      border-color: transparent;\n",
              "      border-right-color: var(--fill-color);\n",
              "    }\n",
              "    80% {\n",
              "      border-color: transparent;\n",
              "      border-right-color: var(--fill-color);\n",
              "      border-bottom-color: var(--fill-color);\n",
              "    }\n",
              "    90% {\n",
              "      border-color: transparent;\n",
              "      border-bottom-color: var(--fill-color);\n",
              "    }\n",
              "  }\n",
              "</style>\n",
              "\n",
              "  <script>\n",
              "    async function quickchart(key) {\n",
              "      const quickchartButtonEl =\n",
              "        document.querySelector('#' + key + ' button');\n",
              "      quickchartButtonEl.disabled = true;  // To prevent multiple clicks.\n",
              "      quickchartButtonEl.classList.add('colab-df-spinner');\n",
              "      try {\n",
              "        const charts = await google.colab.kernel.invokeFunction(\n",
              "            'suggestCharts', [key], {});\n",
              "      } catch (error) {\n",
              "        console.error('Error during call to suggestCharts:', error);\n",
              "      }\n",
              "      quickchartButtonEl.classList.remove('colab-df-spinner');\n",
              "      quickchartButtonEl.classList.add('colab-df-quickchart-complete');\n",
              "    }\n",
              "    (() => {\n",
              "      let quickchartButtonEl =\n",
              "        document.querySelector('#df-c1e6bfb9-ad4f-406c-934c-872e33b83d18 button');\n",
              "      quickchartButtonEl.style.display =\n",
              "        google.colab.kernel.accessAllowed ? 'block' : 'none';\n",
              "    })();\n",
              "  </script>\n",
              "</div>\n",
              "\n",
              "  <div id=\"id_90be310d-fe43-492b-951a-54f56e60480b\">\n",
              "    <style>\n",
              "      .colab-df-generate {\n",
              "        background-color: #E8F0FE;\n",
              "        border: none;\n",
              "        border-radius: 50%;\n",
              "        cursor: pointer;\n",
              "        display: none;\n",
              "        fill: #1967D2;\n",
              "        height: 32px;\n",
              "        padding: 0 0 0 0;\n",
              "        width: 32px;\n",
              "      }\n",
              "\n",
              "      .colab-df-generate:hover {\n",
              "        background-color: #E2EBFA;\n",
              "        box-shadow: 0px 1px 2px rgba(60, 64, 67, 0.3), 0px 1px 3px 1px rgba(60, 64, 67, 0.15);\n",
              "        fill: #174EA6;\n",
              "      }\n",
              "\n",
              "      [theme=dark] .colab-df-generate {\n",
              "        background-color: #3B4455;\n",
              "        fill: #D2E3FC;\n",
              "      }\n",
              "\n",
              "      [theme=dark] .colab-df-generate:hover {\n",
              "        background-color: #434B5C;\n",
              "        box-shadow: 0px 1px 3px 1px rgba(0, 0, 0, 0.15);\n",
              "        filter: drop-shadow(0px 1px 2px rgba(0, 0, 0, 0.3));\n",
              "        fill: #FFFFFF;\n",
              "      }\n",
              "    </style>\n",
              "    <button class=\"colab-df-generate\" onclick=\"generateWithVariable('df')\"\n",
              "            title=\"Generate code using this dataframe.\"\n",
              "            style=\"display:none;\">\n",
              "\n",
              "  <svg xmlns=\"http://www.w3.org/2000/svg\" height=\"24px\"viewBox=\"0 0 24 24\"\n",
              "       width=\"24px\">\n",
              "    <path d=\"M7,19H8.4L18.45,9,17,7.55,7,17.6ZM5,21V16.75L18.45,3.32a2,2,0,0,1,2.83,0l1.4,1.43a1.91,1.91,0,0,1,.58,1.4,1.91,1.91,0,0,1-.58,1.4L9.25,21ZM18.45,9,17,7.55Zm-12,3A5.31,5.31,0,0,0,4.9,8.1,5.31,5.31,0,0,0,1,6.5,5.31,5.31,0,0,0,4.9,4.9,5.31,5.31,0,0,0,6.5,1,5.31,5.31,0,0,0,8.1,4.9,5.31,5.31,0,0,0,12,6.5,5.46,5.46,0,0,0,6.5,12Z\"/>\n",
              "  </svg>\n",
              "    </button>\n",
              "    <script>\n",
              "      (() => {\n",
              "      const buttonEl =\n",
              "        document.querySelector('#id_90be310d-fe43-492b-951a-54f56e60480b button.colab-df-generate');\n",
              "      buttonEl.style.display =\n",
              "        google.colab.kernel.accessAllowed ? 'block' : 'none';\n",
              "\n",
              "      buttonEl.onclick = () => {\n",
              "        google.colab.notebook.generateWithVariable('df');\n",
              "      }\n",
              "      })();\n",
              "    </script>\n",
              "  </div>\n",
              "\n",
              "    </div>\n",
              "  </div>\n"
            ],
            "application/vnd.google.colaboratory.intrinsic+json": {
              "type": "dataframe",
              "variable_name": "df",
              "summary": "{\n  \"name\": \"df\",\n  \"rows\": 5,\n  \"fields\": [\n    {\n      \"column\": 0,\n      \"properties\": {\n        \"dtype\": \"number\",\n        \"std\": 30,\n        \"min\": 18,\n        \"max\": 85,\n        \"num_unique_values\": 5,\n        \"samples\": [\n          28,\n          72,\n          76\n        ],\n        \"semantic_type\": \"\",\n        \"description\": \"\"\n      }\n    },\n    {\n      \"column\": 1,\n      \"properties\": {\n        \"dtype\": \"number\",\n        \"std\": 24,\n        \"min\": 25,\n        \"max\": 84,\n        \"num_unique_values\": 5,\n        \"samples\": [\n          36,\n          42,\n          25\n        ],\n        \"semantic_type\": \"\",\n        \"description\": \"\"\n      }\n    },\n    {\n      \"column\": 2,\n      \"properties\": {\n        \"dtype\": \"number\",\n        \"std\": 20,\n        \"min\": 7,\n        \"max\": 59,\n        \"num_unique_values\": 5,\n        \"samples\": [\n          7,\n          44,\n          53\n        ],\n        \"semantic_type\": \"\",\n        \"description\": \"\"\n      }\n    }\n  ]\n}"
            }
          },
          "metadata": {},
          "execution_count": 62
        }
      ]
    },
    {
      "cell_type": "markdown",
      "source": [
        "25. Write a function that takes a Pandas DataFrame and replaces all negative values in a specific column\n",
        "with zeros. Use NumPy operations within the Pandas DataFrame"
      ],
      "metadata": {
        "id": "8iNQY1lUfET4"
      }
    },
    {
      "cell_type": "code",
      "source": [
        "def replace(df):\n",
        "  df[df<0]=0\n",
        "  return df\n",
        "\n",
        "df = pd.DataFrame([[1,-2,3],[-4,5,-6],[7,-8,9]])\n",
        "replace(df)"
      ],
      "metadata": {
        "colab": {
          "base_uri": "https://localhost:8080/",
          "height": 143
        },
        "id": "dWUiP5cae44t",
        "outputId": "75e20bdc-c8e7-47d3-af2a-a8a2d06cbc5f"
      },
      "execution_count": null,
      "outputs": [
        {
          "output_type": "execute_result",
          "data": {
            "text/plain": [
              "   0  1  2\n",
              "0  1  0  3\n",
              "1  0  5  0\n",
              "2  7  0  9"
            ],
            "text/html": [
              "\n",
              "  <div id=\"df-7e0695dc-52b9-4d6c-9de4-3e82a4ebc4b9\" class=\"colab-df-container\">\n",
              "    <div>\n",
              "<style scoped>\n",
              "    .dataframe tbody tr th:only-of-type {\n",
              "        vertical-align: middle;\n",
              "    }\n",
              "\n",
              "    .dataframe tbody tr th {\n",
              "        vertical-align: top;\n",
              "    }\n",
              "\n",
              "    .dataframe thead th {\n",
              "        text-align: right;\n",
              "    }\n",
              "</style>\n",
              "<table border=\"1\" class=\"dataframe\">\n",
              "  <thead>\n",
              "    <tr style=\"text-align: right;\">\n",
              "      <th></th>\n",
              "      <th>0</th>\n",
              "      <th>1</th>\n",
              "      <th>2</th>\n",
              "    </tr>\n",
              "  </thead>\n",
              "  <tbody>\n",
              "    <tr>\n",
              "      <th>0</th>\n",
              "      <td>1</td>\n",
              "      <td>0</td>\n",
              "      <td>3</td>\n",
              "    </tr>\n",
              "    <tr>\n",
              "      <th>1</th>\n",
              "      <td>0</td>\n",
              "      <td>5</td>\n",
              "      <td>0</td>\n",
              "    </tr>\n",
              "    <tr>\n",
              "      <th>2</th>\n",
              "      <td>7</td>\n",
              "      <td>0</td>\n",
              "      <td>9</td>\n",
              "    </tr>\n",
              "  </tbody>\n",
              "</table>\n",
              "</div>\n",
              "    <div class=\"colab-df-buttons\">\n",
              "\n",
              "  <div class=\"colab-df-container\">\n",
              "    <button class=\"colab-df-convert\" onclick=\"convertToInteractive('df-7e0695dc-52b9-4d6c-9de4-3e82a4ebc4b9')\"\n",
              "            title=\"Convert this dataframe to an interactive table.\"\n",
              "            style=\"display:none;\">\n",
              "\n",
              "  <svg xmlns=\"http://www.w3.org/2000/svg\" height=\"24px\" viewBox=\"0 -960 960 960\">\n",
              "    <path d=\"M120-120v-720h720v720H120Zm60-500h600v-160H180v160Zm220 220h160v-160H400v160Zm0 220h160v-160H400v160ZM180-400h160v-160H180v160Zm440 0h160v-160H620v160ZM180-180h160v-160H180v160Zm440 0h160v-160H620v160Z\"/>\n",
              "  </svg>\n",
              "    </button>\n",
              "\n",
              "  <style>\n",
              "    .colab-df-container {\n",
              "      display:flex;\n",
              "      gap: 12px;\n",
              "    }\n",
              "\n",
              "    .colab-df-convert {\n",
              "      background-color: #E8F0FE;\n",
              "      border: none;\n",
              "      border-radius: 50%;\n",
              "      cursor: pointer;\n",
              "      display: none;\n",
              "      fill: #1967D2;\n",
              "      height: 32px;\n",
              "      padding: 0 0 0 0;\n",
              "      width: 32px;\n",
              "    }\n",
              "\n",
              "    .colab-df-convert:hover {\n",
              "      background-color: #E2EBFA;\n",
              "      box-shadow: 0px 1px 2px rgba(60, 64, 67, 0.3), 0px 1px 3px 1px rgba(60, 64, 67, 0.15);\n",
              "      fill: #174EA6;\n",
              "    }\n",
              "\n",
              "    .colab-df-buttons div {\n",
              "      margin-bottom: 4px;\n",
              "    }\n",
              "\n",
              "    [theme=dark] .colab-df-convert {\n",
              "      background-color: #3B4455;\n",
              "      fill: #D2E3FC;\n",
              "    }\n",
              "\n",
              "    [theme=dark] .colab-df-convert:hover {\n",
              "      background-color: #434B5C;\n",
              "      box-shadow: 0px 1px 3px 1px rgba(0, 0, 0, 0.15);\n",
              "      filter: drop-shadow(0px 1px 2px rgba(0, 0, 0, 0.3));\n",
              "      fill: #FFFFFF;\n",
              "    }\n",
              "  </style>\n",
              "\n",
              "    <script>\n",
              "      const buttonEl =\n",
              "        document.querySelector('#df-7e0695dc-52b9-4d6c-9de4-3e82a4ebc4b9 button.colab-df-convert');\n",
              "      buttonEl.style.display =\n",
              "        google.colab.kernel.accessAllowed ? 'block' : 'none';\n",
              "\n",
              "      async function convertToInteractive(key) {\n",
              "        const element = document.querySelector('#df-7e0695dc-52b9-4d6c-9de4-3e82a4ebc4b9');\n",
              "        const dataTable =\n",
              "          await google.colab.kernel.invokeFunction('convertToInteractive',\n",
              "                                                    [key], {});\n",
              "        if (!dataTable) return;\n",
              "\n",
              "        const docLinkHtml = 'Like what you see? Visit the ' +\n",
              "          '<a target=\"_blank\" href=https://colab.research.google.com/notebooks/data_table.ipynb>data table notebook</a>'\n",
              "          + ' to learn more about interactive tables.';\n",
              "        element.innerHTML = '';\n",
              "        dataTable['output_type'] = 'display_data';\n",
              "        await google.colab.output.renderOutput(dataTable, element);\n",
              "        const docLink = document.createElement('div');\n",
              "        docLink.innerHTML = docLinkHtml;\n",
              "        element.appendChild(docLink);\n",
              "      }\n",
              "    </script>\n",
              "  </div>\n",
              "\n",
              "\n",
              "<div id=\"df-467ae921-796e-4a0d-9f85-510789c4d16b\">\n",
              "  <button class=\"colab-df-quickchart\" onclick=\"quickchart('df-467ae921-796e-4a0d-9f85-510789c4d16b')\"\n",
              "            title=\"Suggest charts\"\n",
              "            style=\"display:none;\">\n",
              "\n",
              "<svg xmlns=\"http://www.w3.org/2000/svg\" height=\"24px\"viewBox=\"0 0 24 24\"\n",
              "     width=\"24px\">\n",
              "    <g>\n",
              "        <path d=\"M19 3H5c-1.1 0-2 .9-2 2v14c0 1.1.9 2 2 2h14c1.1 0 2-.9 2-2V5c0-1.1-.9-2-2-2zM9 17H7v-7h2v7zm4 0h-2V7h2v10zm4 0h-2v-4h2v4z\"/>\n",
              "    </g>\n",
              "</svg>\n",
              "  </button>\n",
              "\n",
              "<style>\n",
              "  .colab-df-quickchart {\n",
              "      --bg-color: #E8F0FE;\n",
              "      --fill-color: #1967D2;\n",
              "      --hover-bg-color: #E2EBFA;\n",
              "      --hover-fill-color: #174EA6;\n",
              "      --disabled-fill-color: #AAA;\n",
              "      --disabled-bg-color: #DDD;\n",
              "  }\n",
              "\n",
              "  [theme=dark] .colab-df-quickchart {\n",
              "      --bg-color: #3B4455;\n",
              "      --fill-color: #D2E3FC;\n",
              "      --hover-bg-color: #434B5C;\n",
              "      --hover-fill-color: #FFFFFF;\n",
              "      --disabled-bg-color: #3B4455;\n",
              "      --disabled-fill-color: #666;\n",
              "  }\n",
              "\n",
              "  .colab-df-quickchart {\n",
              "    background-color: var(--bg-color);\n",
              "    border: none;\n",
              "    border-radius: 50%;\n",
              "    cursor: pointer;\n",
              "    display: none;\n",
              "    fill: var(--fill-color);\n",
              "    height: 32px;\n",
              "    padding: 0;\n",
              "    width: 32px;\n",
              "  }\n",
              "\n",
              "  .colab-df-quickchart:hover {\n",
              "    background-color: var(--hover-bg-color);\n",
              "    box-shadow: 0 1px 2px rgba(60, 64, 67, 0.3), 0 1px 3px 1px rgba(60, 64, 67, 0.15);\n",
              "    fill: var(--button-hover-fill-color);\n",
              "  }\n",
              "\n",
              "  .colab-df-quickchart-complete:disabled,\n",
              "  .colab-df-quickchart-complete:disabled:hover {\n",
              "    background-color: var(--disabled-bg-color);\n",
              "    fill: var(--disabled-fill-color);\n",
              "    box-shadow: none;\n",
              "  }\n",
              "\n",
              "  .colab-df-spinner {\n",
              "    border: 2px solid var(--fill-color);\n",
              "    border-color: transparent;\n",
              "    border-bottom-color: var(--fill-color);\n",
              "    animation:\n",
              "      spin 1s steps(1) infinite;\n",
              "  }\n",
              "\n",
              "  @keyframes spin {\n",
              "    0% {\n",
              "      border-color: transparent;\n",
              "      border-bottom-color: var(--fill-color);\n",
              "      border-left-color: var(--fill-color);\n",
              "    }\n",
              "    20% {\n",
              "      border-color: transparent;\n",
              "      border-left-color: var(--fill-color);\n",
              "      border-top-color: var(--fill-color);\n",
              "    }\n",
              "    30% {\n",
              "      border-color: transparent;\n",
              "      border-left-color: var(--fill-color);\n",
              "      border-top-color: var(--fill-color);\n",
              "      border-right-color: var(--fill-color);\n",
              "    }\n",
              "    40% {\n",
              "      border-color: transparent;\n",
              "      border-right-color: var(--fill-color);\n",
              "      border-top-color: var(--fill-color);\n",
              "    }\n",
              "    60% {\n",
              "      border-color: transparent;\n",
              "      border-right-color: var(--fill-color);\n",
              "    }\n",
              "    80% {\n",
              "      border-color: transparent;\n",
              "      border-right-color: var(--fill-color);\n",
              "      border-bottom-color: var(--fill-color);\n",
              "    }\n",
              "    90% {\n",
              "      border-color: transparent;\n",
              "      border-bottom-color: var(--fill-color);\n",
              "    }\n",
              "  }\n",
              "</style>\n",
              "\n",
              "  <script>\n",
              "    async function quickchart(key) {\n",
              "      const quickchartButtonEl =\n",
              "        document.querySelector('#' + key + ' button');\n",
              "      quickchartButtonEl.disabled = true;  // To prevent multiple clicks.\n",
              "      quickchartButtonEl.classList.add('colab-df-spinner');\n",
              "      try {\n",
              "        const charts = await google.colab.kernel.invokeFunction(\n",
              "            'suggestCharts', [key], {});\n",
              "      } catch (error) {\n",
              "        console.error('Error during call to suggestCharts:', error);\n",
              "      }\n",
              "      quickchartButtonEl.classList.remove('colab-df-spinner');\n",
              "      quickchartButtonEl.classList.add('colab-df-quickchart-complete');\n",
              "    }\n",
              "    (() => {\n",
              "      let quickchartButtonEl =\n",
              "        document.querySelector('#df-467ae921-796e-4a0d-9f85-510789c4d16b button');\n",
              "      quickchartButtonEl.style.display =\n",
              "        google.colab.kernel.accessAllowed ? 'block' : 'none';\n",
              "    })();\n",
              "  </script>\n",
              "</div>\n",
              "\n",
              "  <div id=\"id_8a8f44d1-a6ba-454c-9212-7d073b67a8f7\">\n",
              "    <style>\n",
              "      .colab-df-generate {\n",
              "        background-color: #E8F0FE;\n",
              "        border: none;\n",
              "        border-radius: 50%;\n",
              "        cursor: pointer;\n",
              "        display: none;\n",
              "        fill: #1967D2;\n",
              "        height: 32px;\n",
              "        padding: 0 0 0 0;\n",
              "        width: 32px;\n",
              "      }\n",
              "\n",
              "      .colab-df-generate:hover {\n",
              "        background-color: #E2EBFA;\n",
              "        box-shadow: 0px 1px 2px rgba(60, 64, 67, 0.3), 0px 1px 3px 1px rgba(60, 64, 67, 0.15);\n",
              "        fill: #174EA6;\n",
              "      }\n",
              "\n",
              "      [theme=dark] .colab-df-generate {\n",
              "        background-color: #3B4455;\n",
              "        fill: #D2E3FC;\n",
              "      }\n",
              "\n",
              "      [theme=dark] .colab-df-generate:hover {\n",
              "        background-color: #434B5C;\n",
              "        box-shadow: 0px 1px 3px 1px rgba(0, 0, 0, 0.15);\n",
              "        filter: drop-shadow(0px 1px 2px rgba(0, 0, 0, 0.3));\n",
              "        fill: #FFFFFF;\n",
              "      }\n",
              "    </style>\n",
              "    <button class=\"colab-df-generate\" onclick=\"generateWithVariable('df')\"\n",
              "            title=\"Generate code using this dataframe.\"\n",
              "            style=\"display:none;\">\n",
              "\n",
              "  <svg xmlns=\"http://www.w3.org/2000/svg\" height=\"24px\"viewBox=\"0 0 24 24\"\n",
              "       width=\"24px\">\n",
              "    <path d=\"M7,19H8.4L18.45,9,17,7.55,7,17.6ZM5,21V16.75L18.45,3.32a2,2,0,0,1,2.83,0l1.4,1.43a1.91,1.91,0,0,1,.58,1.4,1.91,1.91,0,0,1-.58,1.4L9.25,21ZM18.45,9,17,7.55Zm-12,3A5.31,5.31,0,0,0,4.9,8.1,5.31,5.31,0,0,0,1,6.5,5.31,5.31,0,0,0,4.9,4.9,5.31,5.31,0,0,0,6.5,1,5.31,5.31,0,0,0,8.1,4.9,5.31,5.31,0,0,0,12,6.5,5.46,5.46,0,0,0,6.5,12Z\"/>\n",
              "  </svg>\n",
              "    </button>\n",
              "    <script>\n",
              "      (() => {\n",
              "      const buttonEl =\n",
              "        document.querySelector('#id_8a8f44d1-a6ba-454c-9212-7d073b67a8f7 button.colab-df-generate');\n",
              "      buttonEl.style.display =\n",
              "        google.colab.kernel.accessAllowed ? 'block' : 'none';\n",
              "\n",
              "      buttonEl.onclick = () => {\n",
              "        google.colab.notebook.generateWithVariable('df');\n",
              "      }\n",
              "      })();\n",
              "    </script>\n",
              "  </div>\n",
              "\n",
              "    </div>\n",
              "  </div>\n"
            ],
            "application/vnd.google.colaboratory.intrinsic+json": {
              "type": "dataframe",
              "variable_name": "df",
              "summary": "{\n  \"name\": \"df\",\n  \"rows\": 3,\n  \"fields\": [\n    {\n      \"column\": 0,\n      \"properties\": {\n        \"dtype\": \"number\",\n        \"std\": 3,\n        \"min\": 0,\n        \"max\": 7,\n        \"num_unique_values\": 3,\n        \"samples\": [\n          1,\n          0,\n          7\n        ],\n        \"semantic_type\": \"\",\n        \"description\": \"\"\n      }\n    },\n    {\n      \"column\": 1,\n      \"properties\": {\n        \"dtype\": \"number\",\n        \"std\": 2,\n        \"min\": 0,\n        \"max\": 5,\n        \"num_unique_values\": 2,\n        \"samples\": [\n          5,\n          0\n        ],\n        \"semantic_type\": \"\",\n        \"description\": \"\"\n      }\n    },\n    {\n      \"column\": 2,\n      \"properties\": {\n        \"dtype\": \"number\",\n        \"std\": 4,\n        \"min\": 0,\n        \"max\": 9,\n        \"num_unique_values\": 3,\n        \"samples\": [\n          3,\n          0\n        ],\n        \"semantic_type\": \"\",\n        \"description\": \"\"\n      }\n    }\n  ]\n}"
            }
          },
          "metadata": {},
          "execution_count": 63
        }
      ]
    },
    {
      "cell_type": "markdown",
      "source": [
        "26. Access the 3rd element from the given NumPy array."
      ],
      "metadata": {
        "id": "21BkNagKfmEw"
      }
    },
    {
      "cell_type": "code",
      "source": [
        "arr = np.array([10,20,30,40,50])\n",
        "arr[2]"
      ],
      "metadata": {
        "colab": {
          "base_uri": "https://localhost:8080/"
        },
        "id": "hag0A4cLfm9R",
        "outputId": "e2f5e98c-1308-4e20-94bc-3082b33e60a3"
      },
      "execution_count": null,
      "outputs": [
        {
          "output_type": "execute_result",
          "data": {
            "text/plain": [
              "30"
            ]
          },
          "metadata": {},
          "execution_count": 66
        }
      ]
    },
    {
      "cell_type": "markdown",
      "source": [
        "27. Retrieve the element at index (1, 2) from the 2D NumPy array"
      ],
      "metadata": {
        "id": "qlz4FJ2bf5In"
      }
    },
    {
      "cell_type": "code",
      "source": [
        "arr_2d = np.array([[1, 2, 3],[4, 5, 6],[7, 8, 9]])\n",
        "arr_2d[1,2]"
      ],
      "metadata": {
        "colab": {
          "base_uri": "https://localhost:8080/"
        },
        "id": "hhy5HIYMf0En",
        "outputId": "8afeca8e-bdd1-4cac-9277-5aef780b6443"
      },
      "execution_count": null,
      "outputs": [
        {
          "output_type": "execute_result",
          "data": {
            "text/plain": [
              "6"
            ]
          },
          "metadata": {},
          "execution_count": 67
        }
      ]
    },
    {
      "cell_type": "markdown",
      "source": [
        "28. Using boolean indexing, extract elements greater than 5 from the given NumPy array."
      ],
      "metadata": {
        "id": "f8GwxM_igUCH"
      }
    },
    {
      "cell_type": "code",
      "source": [
        "arr = np.array([3, 8, 2, 10, 5, 7]) >5\n",
        "arr"
      ],
      "metadata": {
        "colab": {
          "base_uri": "https://localhost:8080/"
        },
        "id": "hXwyVn0lgNCS",
        "outputId": "2dc7be21-661a-464e-ed2b-0b0509cce1fa"
      },
      "execution_count": null,
      "outputs": [
        {
          "output_type": "execute_result",
          "data": {
            "text/plain": [
              "array([False,  True, False,  True, False,  True])"
            ]
          },
          "metadata": {},
          "execution_count": 68
        }
      ]
    },
    {
      "cell_type": "markdown",
      "source": [
        "29. Perform basic slicing to extract elements from index 2 to 5 (inclusive) from the given NumPy array"
      ],
      "metadata": {
        "id": "vCgruLpEgeUo"
      }
    },
    {
      "cell_type": "code",
      "source": [
        "arr = np.array([1, 2, 3, 4, 5, 6, 7, 8, 9])\n",
        "arr[2:6]"
      ],
      "metadata": {
        "colab": {
          "base_uri": "https://localhost:8080/"
        },
        "id": "Ne9y80yJgaw2",
        "outputId": "2a84fdc6-f49f-4b97-cb0c-f6ee238fc0d8"
      },
      "execution_count": null,
      "outputs": [
        {
          "output_type": "execute_result",
          "data": {
            "text/plain": [
              "array([3, 4, 5, 6])"
            ]
          },
          "metadata": {},
          "execution_count": 69
        }
      ]
    },
    {
      "cell_type": "markdown",
      "source": [
        " 30. Slice the 2D NumPy array to extract the sub-array `[[2, 3], [5, 6]]` from the given array."
      ],
      "metadata": {
        "id": "IBQYl-FrgvPf"
      }
    },
    {
      "cell_type": "code",
      "source": [
        "arr_2d = np.array([[1, 2, 3],[4, 5, 6],[7, 8, 9]])\n",
        "arr_2d[0:2,1:3]\n"
      ],
      "metadata": {
        "colab": {
          "base_uri": "https://localhost:8080/"
        },
        "id": "VB9VKDXYgqkO",
        "outputId": "dff3a9cf-ab58-4cee-c9b2-2b3b151e325d"
      },
      "execution_count": null,
      "outputs": [
        {
          "output_type": "execute_result",
          "data": {
            "text/plain": [
              "array([[2, 3],\n",
              "       [5, 6]])"
            ]
          },
          "metadata": {},
          "execution_count": 70
        }
      ]
    },
    {
      "cell_type": "markdown",
      "source": [
        "31.Write a NumPy function to extract elements in specific order from a given 2D array based on indices\n",
        "provided in another array."
      ],
      "metadata": {
        "id": "0jX4j3Rup4I1"
      }
    },
    {
      "cell_type": "code",
      "source": [
        "arr = np.array([[3,2,1],[6,5,4],[9,8,7]])\n",
        "indices = np.array([[0,1],[1,2]])\n",
        "arr[indices]"
      ],
      "metadata": {
        "colab": {
          "base_uri": "https://localhost:8080/"
        },
        "id": "fkOB9KNSg8P9",
        "outputId": "3eda99b9-9d2b-4bd5-e13d-3bc4d1700bb2"
      },
      "execution_count": null,
      "outputs": [
        {
          "output_type": "execute_result",
          "data": {
            "text/plain": [
              "array([[[3, 2, 1],\n",
              "        [6, 5, 4]],\n",
              "\n",
              "       [[6, 5, 4],\n",
              "        [9, 8, 7]]])"
            ]
          },
          "metadata": {},
          "execution_count": 72
        }
      ]
    },
    {
      "cell_type": "markdown",
      "source": [
        "32. Create a NumPy function that filters elements greater than a threshold from a given 1D array using\n",
        "boolean indexing."
      ],
      "metadata": {
        "id": "Hz9bwz7NsamW"
      }
    },
    {
      "cell_type": "code",
      "source": [
        "arr = np.array([3, 8, 2, 10, 5, 7])\n",
        "threshold = 5\n",
        "arr>threshold"
      ],
      "metadata": {
        "colab": {
          "base_uri": "https://localhost:8080/"
        },
        "id": "Hz8l4kvnqLiU",
        "outputId": "ca49abe6-2d7f-41ff-f214-9e748afb803b"
      },
      "execution_count": null,
      "outputs": [
        {
          "output_type": "execute_result",
          "data": {
            "text/plain": [
              "array([False,  True, False,  True, False,  True])"
            ]
          },
          "metadata": {},
          "execution_count": 74
        }
      ]
    },
    {
      "cell_type": "markdown",
      "source": [
        "33. Develop a NumPy function that extracts specific elements from a 3D array using indices provided in three\n",
        "separate arrays for each dimension."
      ],
      "metadata": {
        "id": "Qcez1lgPuLEh"
      }
    },
    {
      "cell_type": "code",
      "source": [
        "arr_3d = np.array([[[1, 2, 3],[4, 5, 6]],[[7, 8, 9],[10, 11, 12]]])\n",
        "indices_0 = np.array([0, 1])\n",
        "indices_1 = np.array([0, 1])\n",
        "indices_2 = np.array([0, 1])\n",
        "arr_3d[indices_0,indices_1,indices_2]"
      ],
      "metadata": {
        "colab": {
          "base_uri": "https://localhost:8080/"
        },
        "id": "0vB2kx9muK26",
        "outputId": "4f573660-9469-48a1-ff93-63f2783cf6b0"
      },
      "execution_count": null,
      "outputs": [
        {
          "output_type": "execute_result",
          "data": {
            "text/plain": [
              "array([ 1, 11])"
            ]
          },
          "metadata": {},
          "execution_count": 75
        }
      ]
    },
    {
      "cell_type": "markdown",
      "source": [
        "34. Write a NumPy function that returns elements from an array where both two conditions are satisfied\n",
        "using boolean indexing"
      ],
      "metadata": {
        "id": "cYCW7KgFuTvJ"
      }
    },
    {
      "cell_type": "code",
      "source": [
        "arr =np.array([9,8,6,5,3,2])\n",
        "condition1 = arr>5\n",
        "condition2 = arr%2==0\n",
        "arr[condition1 & condition2]"
      ],
      "metadata": {
        "colab": {
          "base_uri": "https://localhost:8080/"
        },
        "id": "vcKFMQPTuDoI",
        "outputId": "ef7f21f2-ffc1-41fe-8c0a-16b53f9768f0"
      },
      "execution_count": null,
      "outputs": [
        {
          "output_type": "execute_result",
          "data": {
            "text/plain": [
              "array([8, 6])"
            ]
          },
          "metadata": {},
          "execution_count": 76
        }
      ]
    },
    {
      "cell_type": "markdown",
      "source": [
        "35. Create a NumPy function that extracts elements from a 2D array using row and column indices provided\n",
        "in separate arrays."
      ],
      "metadata": {
        "id": "c9j_OZ0kw66w"
      }
    },
    {
      "cell_type": "code",
      "source": [
        "arr_2d = np.array([[1, 2, 3],[4, 5, 6],[7, 8, 9]])\n",
        "row_indices = np.array([0, 1])\n",
        "col_indices = np.array([1, 2])\n",
        "arr_2d[row_indices,col_indices]"
      ],
      "metadata": {
        "colab": {
          "base_uri": "https://localhost:8080/"
        },
        "id": "z-Hy1-j-utgw",
        "outputId": "8d6ac6cc-4e6f-474e-9b73-53b877720abc"
      },
      "execution_count": null,
      "outputs": [
        {
          "output_type": "execute_result",
          "data": {
            "text/plain": [
              "array([2, 6])"
            ]
          },
          "metadata": {},
          "execution_count": 79
        }
      ]
    },
    {
      "cell_type": "markdown",
      "source": [
        "36. Given an array arr of shape (3, 3), add a scalar value of 5 to each element using NumPy broadcasting"
      ],
      "metadata": {
        "id": "Ma2OLd0OxO4P"
      }
    },
    {
      "cell_type": "code",
      "source": [
        "arr = np.array([[1, 2, 3],[4, 5, 6],[7, 8, 9]])\n",
        "scalar = 5\n",
        "arr + scalar"
      ],
      "metadata": {
        "colab": {
          "base_uri": "https://localhost:8080/"
        },
        "id": "4ookQwUHxEym",
        "outputId": "c2d10e1d-db79-4a3c-85ab-c60fe38b7f94"
      },
      "execution_count": null,
      "outputs": [
        {
          "output_type": "execute_result",
          "data": {
            "text/plain": [
              "array([[ 6,  7,  8],\n",
              "       [ 9, 10, 11],\n",
              "       [12, 13, 14]])"
            ]
          },
          "metadata": {},
          "execution_count": 80
        }
      ]
    },
    {
      "cell_type": "markdown",
      "source": [
        "37. Consider two arrays arr1 of shape (1, 3) and arr2 of shape (3, 4). Multiply each row of arr2 by the\n",
        "corresponding element in arr1 using NumPy broadcasting"
      ],
      "metadata": {
        "id": "7-Z6pPcUxT9I"
      }
    },
    {
      "cell_type": "code",
      "source": [
        "arr1 = np.array([[1, 2, 3]])\n",
        "arr2 = np.array([[1, 2, 3, 4],[5, 6, 7, 8],[9, 10, 11, 12]])\n",
        "arr = np.reshape(arr1,(3,1))\n",
        "arr * arr2\n"
      ],
      "metadata": {
        "colab": {
          "base_uri": "https://localhost:8080/"
        },
        "id": "0ErMj_lGxSQF",
        "outputId": "b653afd8-a907-491c-b3b0-c31b0b5d89f6"
      },
      "execution_count": null,
      "outputs": [
        {
          "output_type": "execute_result",
          "data": {
            "text/plain": [
              "array([[ 1,  2,  3,  4],\n",
              "       [10, 12, 14, 16],\n",
              "       [27, 30, 33, 36]])"
            ]
          },
          "metadata": {},
          "execution_count": 84
        }
      ]
    },
    {
      "cell_type": "markdown",
      "source": [
        "38. Given a 1D array arr1 of shape (1, 4) and a 2D array arr2 of shape (4, 3), add arr1 to each row of arr2 using\n",
        "NumPy broadcasting."
      ],
      "metadata": {
        "id": "3v13OLUjxkte"
      }
    },
    {
      "cell_type": "code",
      "source": [
        "arr1 = np.array([[1, 2, 3, 4]])\n",
        "arr2 = np.array([[1, 2, 3],[4, 5, 6],[7, 8, 9],[10, 11, 12]])\n",
        "arr = np.reshape(arr1,(4,1))\n",
        "arr + arr2"
      ],
      "metadata": {
        "colab": {
          "base_uri": "https://localhost:8080/"
        },
        "id": "m2aN3tDHxbQd",
        "outputId": "3d9b623a-3cc5-42f3-b982-0c62c4ec8630"
      },
      "execution_count": null,
      "outputs": [
        {
          "output_type": "execute_result",
          "data": {
            "text/plain": [
              "array([[ 2,  3,  4],\n",
              "       [ 6,  7,  8],\n",
              "       [10, 11, 12],\n",
              "       [14, 15, 16]])"
            ]
          },
          "metadata": {},
          "execution_count": 83
        }
      ]
    },
    {
      "cell_type": "markdown",
      "source": [
        "39. Consider two arrays arr1 of shape (3, 1) and arr2 of shape (1, 3). Add these arrays using NumPy\n",
        "broadcasting"
      ],
      "metadata": {
        "id": "Ycwir2ENyHPe"
      }
    },
    {
      "cell_type": "code",
      "source": [
        "arr1 = np.array([[1],[2],[3]])\n",
        "arr2 = np.array([[1, 2, 3]])\n",
        "arr1 + arr2"
      ],
      "metadata": {
        "colab": {
          "base_uri": "https://localhost:8080/"
        },
        "id": "kX8jsVSuxrIE",
        "outputId": "17d0044c-cdd8-414e-da5e-3329f2711d79"
      },
      "execution_count": null,
      "outputs": [
        {
          "output_type": "execute_result",
          "data": {
            "text/plain": [
              "array([[2, 3, 4],\n",
              "       [3, 4, 5],\n",
              "       [4, 5, 6]])"
            ]
          },
          "metadata": {},
          "execution_count": 85
        }
      ]
    },
    {
      "cell_type": "markdown",
      "source": [
        "40. Given arrays arr1 of shape (2, 3) and arr2 of shape (2, 2), perform multiplication using NumPy\n",
        "broadcasting. Handle the shape incompatibility"
      ],
      "metadata": {
        "id": "qYUso7BAyRFf"
      }
    },
    {
      "cell_type": "code",
      "source": [
        "arr1 = np.array([[1, 2, 3],[4, 5, 6]])\n",
        "arr2 = np.array([[1, 2],[3, 4]])\n",
        "arr = np.reshape(arr1,(2,3,1))\n",
        "\n"
      ],
      "metadata": {
        "id": "Iz7jtmubyPsE"
      },
      "execution_count": null,
      "outputs": []
    },
    {
      "cell_type": "markdown",
      "source": [
        "41. Calculate column wise mean for the given array:"
      ],
      "metadata": {
        "id": "MgX2eJqCy8fq"
      }
    },
    {
      "cell_type": "code",
      "source": [
        "arr = np.array([[1, 2, 3], [4, 5, 6]])\n",
        "np.mean(arr,axis=0)"
      ],
      "metadata": {
        "colab": {
          "base_uri": "https://localhost:8080/"
        },
        "id": "CB9AaNGJyzyU",
        "outputId": "fb5c45b8-8dd1-4d6f-fd3c-cbb754f7f5bc"
      },
      "execution_count": null,
      "outputs": [
        {
          "output_type": "execute_result",
          "data": {
            "text/plain": [
              "array([2.5, 3.5, 4.5])"
            ]
          },
          "metadata": {},
          "execution_count": 92
        }
      ]
    },
    {
      "cell_type": "markdown",
      "source": [
        "42. Find maximum value in each row of the given array:"
      ],
      "metadata": {
        "id": "11WTYpmvzIsF"
      }
    },
    {
      "cell_type": "code",
      "source": [
        "arr = np.array([[1, 2, 3], [4, 5, 6]])\n",
        "np.max(arr,axis =1)"
      ],
      "metadata": {
        "colab": {
          "base_uri": "https://localhost:8080/"
        },
        "id": "W3k72jQ2zFrU",
        "outputId": "d2408d9e-6747-452c-8d6a-b5e2bc38bbd7"
      },
      "execution_count": null,
      "outputs": [
        {
          "output_type": "execute_result",
          "data": {
            "text/plain": [
              "array([3, 6])"
            ]
          },
          "metadata": {},
          "execution_count": 93
        }
      ]
    },
    {
      "cell_type": "markdown",
      "source": [
        "43. For the given array, find indices of maximum value in each column"
      ],
      "metadata": {
        "id": "0qyQNluazT_4"
      }
    },
    {
      "cell_type": "code",
      "source": [
        "arr = np.array([[1, 2, 3], [4, 5, 6]])\n",
        "np.argmax(arr,axis=0)"
      ],
      "metadata": {
        "colab": {
          "base_uri": "https://localhost:8080/"
        },
        "id": "cOeTMrJyzO6E",
        "outputId": "9997c8fb-92b6-4094-c909-18b73c37bc10"
      },
      "execution_count": null,
      "outputs": [
        {
          "output_type": "execute_result",
          "data": {
            "text/plain": [
              "array([1, 1, 1])"
            ]
          },
          "metadata": {},
          "execution_count": 94
        }
      ]
    },
    {
      "cell_type": "markdown",
      "source": [
        "44. For the given array, apply custom function to calculate moving sum along rows."
      ],
      "metadata": {
        "id": "dt_BB_7Hzofk"
      }
    },
    {
      "cell_type": "code",
      "source": [
        "arr = np.array([[1, 2, 3], [4, 5, 6]])\n",
        "np.cumsum(arr,axis = 1)"
      ],
      "metadata": {
        "colab": {
          "base_uri": "https://localhost:8080/"
        },
        "id": "R-hcOYihzpbE",
        "outputId": "bc52dc2d-91eb-4e31-a97f-ae6163e16d22"
      },
      "execution_count": null,
      "outputs": [
        {
          "output_type": "execute_result",
          "data": {
            "text/plain": [
              "array([[ 1,  3,  6],\n",
              "       [ 4,  9, 15]])"
            ]
          },
          "metadata": {},
          "execution_count": 96
        }
      ]
    },
    {
      "cell_type": "markdown",
      "source": [
        "45. In the given array, check if all elements in each column are even"
      ],
      "metadata": {
        "id": "aFY6vby9z4Ae"
      }
    },
    {
      "cell_type": "code",
      "source": [
        "arr = np.array([[2, 4, 6], [3, 5, 7]])\n",
        "arr%2==0"
      ],
      "metadata": {
        "colab": {
          "base_uri": "https://localhost:8080/"
        },
        "id": "oPdFEdcFzxCr",
        "outputId": "ac32ee55-26b7-42c0-f58d-b9a77f2e3d55"
      },
      "execution_count": null,
      "outputs": [
        {
          "output_type": "execute_result",
          "data": {
            "text/plain": [
              "array([[ True,  True,  True],\n",
              "       [False, False, False]])"
            ]
          },
          "metadata": {},
          "execution_count": 98
        }
      ]
    },
    {
      "cell_type": "markdown",
      "source": [
        "46. Given a NumPy array arr, reshape it into a matrix of dimensions `m` rows and `n` columns. Return the\n",
        "reshaped matrix"
      ],
      "metadata": {
        "id": "wo_L2cFQ0J6F"
      }
    },
    {
      "cell_type": "code",
      "source": [
        "original_array = np.array([1, 2, 3, 4, 5, 6])\n",
        "m = 2\n",
        "n = 3\n",
        "arr.reshape(m,n)"
      ],
      "metadata": {
        "colab": {
          "base_uri": "https://localhost:8080/"
        },
        "id": "dxz1j0jfz-fK",
        "outputId": "326443a9-1cb9-46fe-fa7a-106a6ab240fc"
      },
      "execution_count": null,
      "outputs": [
        {
          "output_type": "execute_result",
          "data": {
            "text/plain": [
              "array([[1, 2, 3],\n",
              "       [4, 5, 6]])"
            ]
          },
          "metadata": {},
          "execution_count": 100
        }
      ]
    },
    {
      "cell_type": "markdown",
      "source": [
        "47. Create a function that takes a matrix as input and returns the flattened array."
      ],
      "metadata": {
        "id": "V65OWnc10aPM"
      }
    },
    {
      "cell_type": "code",
      "source": [
        "input_matrix = np.array([[1, 2, 3], [4, 5, 6]])\n",
        "def flatten_matrix(input_matrix):\n",
        "  flatten_array = input_matrix.flatten()\n",
        "  return flatten_array\n",
        "\n",
        "flatten_matrix(input_matrix)"
      ],
      "metadata": {
        "colab": {
          "base_uri": "https://localhost:8080/"
        },
        "id": "eBw28mXL0RfK",
        "outputId": "3b4854c6-d12f-4ffe-c0e8-1031a2340dd0"
      },
      "execution_count": null,
      "outputs": [
        {
          "output_type": "execute_result",
          "data": {
            "text/plain": [
              "array([1, 2, 3, 4, 5, 6])"
            ]
          },
          "metadata": {},
          "execution_count": 101
        }
      ]
    },
    {
      "cell_type": "markdown",
      "source": [
        "48. Write a function that concatenates two given arrays along a specified axis."
      ],
      "metadata": {
        "id": "WUGKTX4a06jc"
      }
    },
    {
      "cell_type": "code",
      "source": [
        "array1 = np.array([[1, 2], [3, 4]])\n",
        "array2 = np.array([[5, 6], [7, 8]])\n",
        "\n",
        "def concat_array(array1,array2):\n",
        "  add_array = np.concatenate((array1,array2),axis=1)\n",
        "  return(add_array)\n",
        "concat_array(array1,array2)"
      ],
      "metadata": {
        "colab": {
          "base_uri": "https://localhost:8080/"
        },
        "id": "HzRjkUuG04XS",
        "outputId": "2ea1b9ef-3a41-498c-cf25-019eba34f5e5"
      },
      "execution_count": null,
      "outputs": [
        {
          "output_type": "execute_result",
          "data": {
            "text/plain": [
              "array([[1, 2, 5, 6],\n",
              "       [3, 4, 7, 8]])"
            ]
          },
          "metadata": {},
          "execution_count": 102
        }
      ]
    },
    {
      "cell_type": "markdown",
      "source": [
        "49. Create a function that splits an array into multiple sub-arrays along a specified axis"
      ],
      "metadata": {
        "id": "tavp7iL51rGz"
      }
    },
    {
      "cell_type": "code",
      "source": [
        "original_array = np.array([[1, 2, 3], [4, 5, 6], [7, 8, 9]])\n",
        "def split_array(original_array):\n",
        "  sub_array = np.array_split(original_array,3)\n",
        "  return sub_array\n",
        "\n",
        "split_array(original_array)"
      ],
      "metadata": {
        "colab": {
          "base_uri": "https://localhost:8080/"
        },
        "id": "kfAkw3eB1bJq",
        "outputId": "3610889e-2868-4fa1-f258-592f24044747"
      },
      "execution_count": null,
      "outputs": [
        {
          "output_type": "execute_result",
          "data": {
            "text/plain": [
              "[array([[1, 2, 3]]), array([[4, 5, 6]]), array([[7, 8, 9]])]"
            ]
          },
          "metadata": {},
          "execution_count": 104
        }
      ]
    },
    {
      "cell_type": "markdown",
      "source": [
        "50. Write a function that inserts and then deletes elements from a given array at specified indices"
      ],
      "metadata": {
        "id": "aPrJeYoF1_cT"
      }
    },
    {
      "cell_type": "code",
      "source": [
        "original_array = np.array([1, 2, 3, 4, 5])\n",
        "indices_to_insert = [2, 4]\n",
        "values_to_insert = [10, 11]\n",
        "indices_to_delete = [1, 3]\n"
      ],
      "metadata": {
        "id": "YocuxoWJ1xnp"
      },
      "execution_count": null,
      "outputs": []
    },
    {
      "cell_type": "markdown",
      "source": [
        "51. Create a NumPy array `arr1` with random integers and another array `arr2` with integers from 1 to 10.\n",
        "Perform element-wise addition between `arr1` and `arr2`."
      ],
      "metadata": {
        "id": "Ag9eYDxQ2FCS"
      }
    },
    {
      "cell_type": "code",
      "source": [
        "arr1 = np.random.randint(1,100,10)\n",
        "arr2 = np.arange(1,11)\n",
        "arr1 + arr2"
      ],
      "metadata": {
        "id": "_dwWc0en2K30",
        "colab": {
          "base_uri": "https://localhost:8080/"
        },
        "outputId": "a94cad22-6e8f-405c-9c64-9724285f6fae"
      },
      "execution_count": 3,
      "outputs": [
        {
          "output_type": "execute_result",
          "data": {
            "text/plain": [
              "array([44, 70, 87, 29, 17, 28, 62, 92, 63, 83])"
            ]
          },
          "metadata": {},
          "execution_count": 3
        }
      ]
    },
    {
      "cell_type": "markdown",
      "source": [
        "52. Generate a NumPy array `arr1` with sequential integers from 10 to 1 and another array `arr2` with integers\n",
        "from 1 to 10. Subtract `arr2` from `arr1` element-wise."
      ],
      "metadata": {
        "id": "6c7rO9KInVkh"
      }
    },
    {
      "cell_type": "code",
      "source": [
        "arr1 = np.arange(10,0,-1)\n",
        "arr2 = np.arange(1,11)\n",
        "arr1 - arr2"
      ],
      "metadata": {
        "colab": {
          "base_uri": "https://localhost:8080/"
        },
        "id": "Oo5AOGchnF_A",
        "outputId": "5c7eeb06-04ca-45ba-bc13-bdceaa3b6b3e"
      },
      "execution_count": 4,
      "outputs": [
        {
          "output_type": "execute_result",
          "data": {
            "text/plain": [
              "array([ 9,  7,  5,  3,  1, -1, -3, -5, -7, -9])"
            ]
          },
          "metadata": {},
          "execution_count": 4
        }
      ]
    },
    {
      "cell_type": "markdown",
      "source": [
        "53. Create a NumPy array `arr1` with random integers and another array `arr2` with integers from 1 to 5.\n",
        "Perform element-wise multiplication between `arr1` and `arr2`."
      ],
      "metadata": {
        "id": "XXW3VePMn1gO"
      }
    },
    {
      "cell_type": "code",
      "source": [
        "arr1 = np.random.randint(1,100,5)\n",
        "arr2 = np.arange(1,6)\n",
        "arr1 * arr2\n",
        ""
      ],
      "metadata": {
        "colab": {
          "base_uri": "https://localhost:8080/"
        },
        "id": "c1i6w41snq8n",
        "outputId": "110383c2-df42-45ed-a6b2-3bc8faac31ba"
      },
      "execution_count": 6,
      "outputs": [
        {
          "output_type": "execute_result",
          "data": {
            "text/plain": [
              "array([ 43,  56,  60, 216, 380])"
            ]
          },
          "metadata": {},
          "execution_count": 6
        }
      ]
    },
    {
      "cell_type": "markdown",
      "source": [
        "54. Generate a NumPy array `arr1` with even integers from 2 to 10 and another array `arr2` with integers from 1\n",
        "to 5. Perform element-wise division of `arr1` by `arr2`."
      ],
      "metadata": {
        "id": "SB0e5pr5oiow"
      }
    },
    {
      "cell_type": "code",
      "source": [
        "arr1 = np.arange(2,11,2)\n",
        "arr2 = np.arange(1,6)\n",
        "arr1/arr2"
      ],
      "metadata": {
        "colab": {
          "base_uri": "https://localhost:8080/"
        },
        "id": "9VVYD02yoT19",
        "outputId": "4c7d44da-8caa-47b4-eccd-ff3235e256f8"
      },
      "execution_count": 7,
      "outputs": [
        {
          "output_type": "execute_result",
          "data": {
            "text/plain": [
              "array([2., 2., 2., 2., 2.])"
            ]
          },
          "metadata": {},
          "execution_count": 7
        }
      ]
    },
    {
      "cell_type": "markdown",
      "source": [
        "55. Create a NumPy array `arr1` with integers from 1 to 5 and another array `arr2` with the same numbers\n",
        "reversed. Calculate the exponentiation of `arr1` raised to the power of `arr2` element-wise."
      ],
      "metadata": {
        "id": "TaoniuAmpYyU"
      }
    },
    {
      "cell_type": "code",
      "source": [
        "arr1 = np.arange(1,6)\n",
        "arr2 = np.flip(arr1)\n",
        "arr1**arr2"
      ],
      "metadata": {
        "colab": {
          "base_uri": "https://localhost:8080/"
        },
        "id": "LM-fNTz5pNg9",
        "outputId": "0d350f98-9b1f-4ebc-8a2b-33305f1a6270"
      },
      "execution_count": 8,
      "outputs": [
        {
          "output_type": "execute_result",
          "data": {
            "text/plain": [
              "array([ 1, 16, 27, 16,  5])"
            ]
          },
          "metadata": {},
          "execution_count": 8
        }
      ]
    },
    {
      "cell_type": "markdown",
      "source": [
        "56. Write a function that counts the occurrences of a specific substring within a NumPy array of strings."
      ],
      "metadata": {
        "id": "Or3WYx_Dp_wk"
      }
    },
    {
      "cell_type": "markdown",
      "source": [
        "57. Write a function that extracts uppercase characters from a NumPy array of strings.\n",
        "\n",
        "arr = np.array(['Hello', 'World', 'OpenAI', 'GPT'])"
      ],
      "metadata": {
        "id": "WexJ5-hlqY1F"
      }
    },
    {
      "cell_type": "code",
      "source": [
        "arr = np.array(['Hello', 'World', 'OpenAI', 'GPT'])\n",
        "def extract_uppercase(arr):\n",
        "  uppercase = np.char.upper(arr)\n",
        "  return uppercase\n",
        "\n",
        "extract_uppercase(arr)"
      ],
      "metadata": {
        "colab": {
          "base_uri": "https://localhost:8080/"
        },
        "id": "FZjg97bnphf0",
        "outputId": "ef2a61de-0f08-43f6-8b6d-8b92cc8affa1"
      },
      "execution_count": 9,
      "outputs": [
        {
          "output_type": "execute_result",
          "data": {
            "text/plain": [
              "array(['HELLO', 'WORLD', 'OPENAI', 'GPT'], dtype='<U6')"
            ]
          },
          "metadata": {},
          "execution_count": 9
        }
      ]
    },
    {
      "cell_type": "markdown",
      "source": [
        "58. Write a function that replaces occurrences of a substring in a NumPy array of strings with a new string."
      ],
      "metadata": {
        "id": "BtQRPSkUqqjD"
      }
    },
    {
      "cell_type": "code",
      "source": [
        "arr = np.array(['apple', 'banana', 'grape', 'pineapple'])\n",
        "def replace_substring(arr):\n",
        "  new_string = np.char.replace(arr,'apple','kiwi')\n",
        "  return new_string\n",
        "\n",
        "replace_substring(arr)"
      ],
      "metadata": {
        "colab": {
          "base_uri": "https://localhost:8080/"
        },
        "id": "iYo3LZBCqiis",
        "outputId": "0a182257-0748-46c0-9390-8b573dbe11cc"
      },
      "execution_count": 10,
      "outputs": [
        {
          "output_type": "execute_result",
          "data": {
            "text/plain": [
              "array(['kiwi', 'banana', 'grape', 'pinekiwi'], dtype='<U8')"
            ]
          },
          "metadata": {},
          "execution_count": 10
        }
      ]
    },
    {
      "cell_type": "markdown",
      "source": [
        "59. Write a function that concatenates strings in a NumPy array element-wise."
      ],
      "metadata": {
        "id": "hW8NkDZxrKBC"
      }
    },
    {
      "cell_type": "code",
      "source": [
        "arr1 = np.array(['Hello', 'World'])\n",
        "arr2 = np.array(['Open', 'AI'])\n",
        "\n",
        "def concat_string(arr1,arr2):\n",
        "  concat = np.char.add(arr1,arr2)\n",
        "  return concat\n",
        "\n",
        "concat_string(arr1,arr2)"
      ],
      "metadata": {
        "colab": {
          "base_uri": "https://localhost:8080/"
        },
        "id": "4Dm9_50BrF_r",
        "outputId": "95412f55-ac1a-4ef4-8c74-c565558924e3"
      },
      "execution_count": 11,
      "outputs": [
        {
          "output_type": "execute_result",
          "data": {
            "text/plain": [
              "array(['HelloOpen', 'WorldAI'], dtype='<U9')"
            ]
          },
          "metadata": {},
          "execution_count": 11
        }
      ]
    },
    {
      "cell_type": "markdown",
      "source": [
        "60. Write a function that finds the length of the longest string in a NumPy array.\n",
        "\n",
        "arr = np.array(['apple', 'banana', 'grape', 'pineapple'])"
      ],
      "metadata": {
        "id": "bShsS0GlsMGa"
      }
    },
    {
      "cell_type": "code",
      "source": [
        "arr = np.array(['apple', 'banana', 'grape', 'pineapple'])\n",
        "def find_length(arr):\n",
        "  length = np.char.str_len(arr)\n",
        "  return length\n",
        "\n",
        "find_length(arr)"
      ],
      "metadata": {
        "colab": {
          "base_uri": "https://localhost:8080/"
        },
        "id": "SJiiVZcfriVi",
        "outputId": "1ef9343f-d86b-40ae-cce1-929fc1502b52"
      },
      "execution_count": 12,
      "outputs": [
        {
          "output_type": "execute_result",
          "data": {
            "text/plain": [
              "array([5, 6, 5, 9])"
            ]
          },
          "metadata": {},
          "execution_count": 12
        }
      ]
    },
    {
      "cell_type": "markdown",
      "source": [
        "61. Create a dataset of 100 random integers between 1 and 1000. Compute the mean, median, variance, and\n",
        "standard deviation of the dataset using NumPy's functions"
      ],
      "metadata": {
        "id": "p6VdgvhAsvYq"
      }
    },
    {
      "cell_type": "code",
      "source": [
        "arr = np.random.randint(1,1000,100)\n",
        "print('Mean =',np.mean(arr))\n",
        "print('Median =',np.median(arr))\n",
        "print('Var =',np.var(arr))\n",
        "print('std =',np.std(arr))"
      ],
      "metadata": {
        "colab": {
          "base_uri": "https://localhost:8080/"
        },
        "id": "FBnPEyH3sSFR",
        "outputId": "4454211c-1364-457f-9bf5-262c9ba8093b"
      },
      "execution_count": 14,
      "outputs": [
        {
          "output_type": "stream",
          "name": "stdout",
          "text": [
            "Mean = 496.64\n",
            "Median = 465.5\n",
            "Var = 68008.05040000001\n",
            "std = 260.7835316886402\n"
          ]
        }
      ]
    },
    {
      "cell_type": "markdown",
      "source": [
        "62. Generate an array of 50 random numbers between 1 and 100. Find the 25th and 75th percentiles of the\n",
        "dataset."
      ],
      "metadata": {
        "id": "3ounOQfZt6lQ"
      }
    },
    {
      "cell_type": "code",
      "source": [
        "arr = np.random.randint(1,100,50)\n",
        "print('25th percentile =',np.percentile(arr,25))\n",
        "print('75th percentile =',np.percentile(arr,75))"
      ],
      "metadata": {
        "colab": {
          "base_uri": "https://localhost:8080/"
        },
        "id": "uww6R3iHtd9p",
        "outputId": "80803c36-9d55-403f-dab7-24f8a8e36f59"
      },
      "execution_count": 15,
      "outputs": [
        {
          "output_type": "stream",
          "name": "stdout",
          "text": [
            "25th percentile = 18.25\n",
            "75th percentile = 74.5\n"
          ]
        }
      ]
    },
    {
      "cell_type": "markdown",
      "source": [
        "63. Create two arrays representing two sets of variables. Compute the correlation coefficient between these\n",
        "arrays using NumPy's `corrcoef` function."
      ],
      "metadata": {
        "id": "FUX5zTayuKOs"
      }
    },
    {
      "cell_type": "code",
      "source": [
        "arr1 = np.array([1,2,3,4,5])\n",
        "arr2 = np.array([6,7,8,9,10])\n",
        "np.corrcoef(arr1,arr2)"
      ],
      "metadata": {
        "colab": {
          "base_uri": "https://localhost:8080/"
        },
        "id": "EFeKUlaHuFQf",
        "outputId": "95cc9602-9226-48f6-c790-843c4a9527fe"
      },
      "execution_count": 16,
      "outputs": [
        {
          "output_type": "execute_result",
          "data": {
            "text/plain": [
              "array([[1., 1.],\n",
              "       [1., 1.]])"
            ]
          },
          "metadata": {},
          "execution_count": 16
        }
      ]
    },
    {
      "cell_type": "markdown",
      "source": [
        "64. Create two matrices and perform matrix multiplication using NumPy's `dot` function."
      ],
      "metadata": {
        "id": "yOMhkZueulhu"
      }
    },
    {
      "cell_type": "code",
      "source": [
        "max1 =np.matrix([[1,2],[3,4]])\n",
        "max2 = np.matrix([[5,6],[7,8]])\n",
        "np.dot(max1,max2)"
      ],
      "metadata": {
        "colab": {
          "base_uri": "https://localhost:8080/"
        },
        "id": "ddriHSKcuRpj",
        "outputId": "df5f8f6e-4970-4dce-ffdd-e2bd4bc8028b"
      },
      "execution_count": 18,
      "outputs": [
        {
          "output_type": "execute_result",
          "data": {
            "text/plain": [
              "matrix([[19, 22],\n",
              "        [43, 50]])"
            ]
          },
          "metadata": {},
          "execution_count": 18
        }
      ]
    },
    {
      "cell_type": "markdown",
      "source": [
        "65. Create an array of 50 integers between 10 and 1000. Calculate the 10th, 50th (median), and 90th\n",
        "percentiles along with the first and third quartiles"
      ],
      "metadata": {
        "id": "_3RBeAqWu2oe"
      }
    },
    {
      "cell_type": "code",
      "source": [
        "arr =np.random.randint(10,1000,50)\n",
        "print('10th percentile =',np.percentile(arr,10))\n",
        "print('50th percentile =',np.percentile(arr,50))\n",
        "print('90th percentile =',np.percentile(arr,90))"
      ],
      "metadata": {
        "colab": {
          "base_uri": "https://localhost:8080/"
        },
        "id": "J8iN4ydZuvQe",
        "outputId": "7deb1142-3514-4b54-9f6d-acdaff32b38d"
      },
      "execution_count": 19,
      "outputs": [
        {
          "output_type": "stream",
          "name": "stdout",
          "text": [
            "10th percentile = 112.9\n",
            "50th percentile = 361.5\n",
            "90th percentile = 896.5\n"
          ]
        }
      ]
    },
    {
      "cell_type": "markdown",
      "source": [
        "66. Create a NumPy array of integers and find the index of a specific element."
      ],
      "metadata": {
        "id": "zEMIrvvDvHBp"
      }
    },
    {
      "cell_type": "code",
      "source": [
        "arr = np.array([1,2,3,4,5,6,7,8,9])\n",
        "np.where(arr==5)"
      ],
      "metadata": {
        "colab": {
          "base_uri": "https://localhost:8080/"
        },
        "id": "FRAZTERIvE1J",
        "outputId": "b937eb07-baa0-4416-c790-b12586f82b9c"
      },
      "execution_count": 20,
      "outputs": [
        {
          "output_type": "execute_result",
          "data": {
            "text/plain": [
              "(array([4]),)"
            ]
          },
          "metadata": {},
          "execution_count": 20
        }
      ]
    },
    {
      "cell_type": "markdown",
      "source": [
        "67. Generate a random NumPy array and sort it in ascending order."
      ],
      "metadata": {
        "id": "h_pFavTdva6v"
      }
    },
    {
      "cell_type": "code",
      "source": [
        "arr = np.random.randint(1,100,10)\n",
        "np.sort(arr)"
      ],
      "metadata": {
        "colab": {
          "base_uri": "https://localhost:8080/"
        },
        "id": "Phs97JQ1vQ_G",
        "outputId": "1bd8cf0f-3f82-4132-ba48-19decb666817"
      },
      "execution_count": 21,
      "outputs": [
        {
          "output_type": "execute_result",
          "data": {
            "text/plain": [
              "array([15, 20, 23, 31, 54, 59, 68, 87, 96, 97])"
            ]
          },
          "metadata": {},
          "execution_count": 21
        }
      ]
    },
    {
      "cell_type": "markdown",
      "source": [
        "68. Filter elements >20  in the given NumPy array."
      ],
      "metadata": {
        "id": "LTt4XQf1vsAN"
      }
    },
    {
      "cell_type": "code",
      "source": [
        "arr = np.array([12, 25, 6, 42, 8, 30])\n",
        "arr[arr > 20]"
      ],
      "metadata": {
        "colab": {
          "base_uri": "https://localhost:8080/"
        },
        "id": "xYTxMowdvlr9",
        "outputId": "dbe490fb-f24f-4428-8000-7c5eb50f457e"
      },
      "execution_count": 22,
      "outputs": [
        {
          "output_type": "execute_result",
          "data": {
            "text/plain": [
              "array([25, 42, 30])"
            ]
          },
          "metadata": {},
          "execution_count": 22
        }
      ]
    },
    {
      "cell_type": "markdown",
      "source": [
        "69. Filter elements which are divisible by 3 from a given NumPy array."
      ],
      "metadata": {
        "id": "ORQcl3rTv7dz"
      }
    },
    {
      "cell_type": "code",
      "source": [
        "arr = np.array([1, 5, 8, 12, 15])\n",
        "arr[arr%3==0]"
      ],
      "metadata": {
        "colab": {
          "base_uri": "https://localhost:8080/"
        },
        "id": "Xxagf09Tv1AN",
        "outputId": "e7819ff2-bc11-4dfe-ecf3-16e926de3347"
      },
      "execution_count": 23,
      "outputs": [
        {
          "output_type": "execute_result",
          "data": {
            "text/plain": [
              "array([12, 15])"
            ]
          },
          "metadata": {},
          "execution_count": 23
        }
      ]
    },
    {
      "cell_type": "markdown",
      "source": [
        "70. Filter elements which are ≥ 20 and ≤ 40 from a given NumPy array."
      ],
      "metadata": {
        "id": "FhO9Io1LwFrO"
      }
    },
    {
      "cell_type": "code",
      "source": [
        "arr = np.array([10, 20, 30, 40, 50])\n",
        "arr[(arr>=20) & (arr<=40)]"
      ],
      "metadata": {
        "colab": {
          "base_uri": "https://localhost:8080/"
        },
        "id": "HmaN3D0NwAbC",
        "outputId": "853833ff-0c8a-49ec-df35-d4d4fe195329"
      },
      "execution_count": 24,
      "outputs": [
        {
          "output_type": "execute_result",
          "data": {
            "text/plain": [
              "array([20, 30, 40])"
            ]
          },
          "metadata": {},
          "execution_count": 24
        }
      ]
    },
    {
      "cell_type": "markdown",
      "source": [
        "71. For the given NumPy array, check its byte order using the `dtype` attribute byteorder."
      ],
      "metadata": {
        "id": "5EkWwkCmwg6F"
      }
    },
    {
      "cell_type": "code",
      "source": [
        "arr = np.array([1, 2, 3])\n",
        "arr.dtype.byteorder"
      ],
      "metadata": {
        "colab": {
          "base_uri": "https://localhost:8080/",
          "height": 36
        },
        "id": "9Y06BA93wdnE",
        "outputId": "32ae9dee-91e1-409a-9e73-569e9c8fb566"
      },
      "execution_count": 26,
      "outputs": [
        {
          "output_type": "execute_result",
          "data": {
            "text/plain": [
              "'='"
            ],
            "application/vnd.google.colaboratory.intrinsic+json": {
              "type": "string"
            }
          },
          "metadata": {},
          "execution_count": 26
        }
      ]
    },
    {
      "cell_type": "markdown",
      "source": [
        "72. For the given NumPy array, perform byte swapping in place using `byteswap()`."
      ],
      "metadata": {
        "id": "hPQrp_Y1wol2"
      }
    },
    {
      "cell_type": "code",
      "source": [
        "arr = np.array([1, 2, 3], dtype=np.int32)\n",
        "arr.byteswap()"
      ],
      "metadata": {
        "colab": {
          "base_uri": "https://localhost:8080/"
        },
        "id": "i7Rp4n66wlTU",
        "outputId": "8bf8f6a9-909b-436a-e94c-272564da8e2c"
      },
      "execution_count": 27,
      "outputs": [
        {
          "output_type": "execute_result",
          "data": {
            "text/plain": [
              "array([16777216, 33554432, 50331648], dtype=int32)"
            ]
          },
          "metadata": {},
          "execution_count": 27
        }
      ]
    },
    {
      "cell_type": "markdown",
      "source": [
        "73. For the given NumPy array, swap its byte order without modifying the original array using\n",
        "`newbyteorder()`."
      ],
      "metadata": {
        "id": "PR_qrRfdxFw8"
      }
    },
    {
      "cell_type": "code",
      "source": [
        "arr = np.array([1, 2, 3], dtype=np.int32)\n",
        "arr.newbyteorder()"
      ],
      "metadata": {
        "colab": {
          "base_uri": "https://localhost:8080/"
        },
        "id": "a9QB1gDMwyF0",
        "outputId": "3183dc0b-f12e-4a12-87ad-611a81d431cb"
      },
      "execution_count": 28,
      "outputs": [
        {
          "output_type": "execute_result",
          "data": {
            "text/plain": [
              "array([16777216, 33554432, 50331648], dtype='>i4')"
            ]
          },
          "metadata": {},
          "execution_count": 28
        }
      ]
    },
    {
      "cell_type": "markdown",
      "source": [
        "74. For the given NumPy array and swap its byte order conditionally based on system endianness using\n",
        "`newbyteorder()`."
      ],
      "metadata": {
        "id": "0XRjWlzvxS20"
      }
    },
    {
      "cell_type": "code",
      "source": [
        "arr = np.array([1, 2, 3], dtype=np.int32)\n",
        "arr.newbyteorder(arr.dtype.byteorder)"
      ],
      "metadata": {
        "colab": {
          "base_uri": "https://localhost:8080/"
        },
        "id": "Di-JBlk8xLeb",
        "outputId": "8041f9d2-93e3-4bc0-8570-81934a0e469c"
      },
      "execution_count": 29,
      "outputs": [
        {
          "output_type": "execute_result",
          "data": {
            "text/plain": [
              "array([1, 2, 3], dtype=int32)"
            ]
          },
          "metadata": {},
          "execution_count": 29
        }
      ]
    },
    {
      "cell_type": "markdown",
      "source": [
        "75. For the given NumPy array, check if byte swapping is necessary for the current system using `dtype`\n",
        "attribute `byteorder`."
      ],
      "metadata": {
        "id": "EW4-rLbzxZTk"
      }
    },
    {
      "cell_type": "code",
      "source": [
        "arr = np.array([1, 2, 3], dtype=np.int32)\n",
        "arr.dtype.byteorder"
      ],
      "metadata": {
        "colab": {
          "base_uri": "https://localhost:8080/",
          "height": 36
        },
        "id": "QjmF7f7uxW-c",
        "outputId": "d6f8b3c4-e2c8-462f-cdb5-67ac14212630"
      },
      "execution_count": 30,
      "outputs": [
        {
          "output_type": "execute_result",
          "data": {
            "text/plain": [
              "'='"
            ],
            "application/vnd.google.colaboratory.intrinsic+json": {
              "type": "string"
            }
          },
          "metadata": {},
          "execution_count": 30
        }
      ]
    },
    {
      "cell_type": "markdown",
      "source": [
        "76. Create a NumPy array `arr1` with values from 1 to 10. Create a copy of `arr1` named `copy_arr` and modify\n",
        "an element in `copy_arr`. Check if modifying `copy_arr` affects `arr1`."
      ],
      "metadata": {
        "id": "WXFR99TZxh7z"
      }
    },
    {
      "cell_type": "code",
      "source": [
        "arr1 = np.arange(1,11)\n",
        "copy_arr = arr1.copy()\n",
        "copy_arr[0] = 100\n",
        "print(arr1)\n",
        "print(copy_arr)"
      ],
      "metadata": {
        "colab": {
          "base_uri": "https://localhost:8080/"
        },
        "id": "BWRqLShgxesb",
        "outputId": "1935517b-f13e-4fe1-eac1-e79e2da17f64"
      },
      "execution_count": 31,
      "outputs": [
        {
          "output_type": "stream",
          "name": "stdout",
          "text": [
            "[ 1  2  3  4  5  6  7  8  9 10]\n",
            "[100   2   3   4   5   6   7   8   9  10]\n"
          ]
        }
      ]
    },
    {
      "cell_type": "markdown",
      "source": [
        "77. Create a 2D NumPy array `matrix` of shape (3, 3) with random integers. Extract a slice `view_slice` from\n",
        "the matrix. Modify an element in `view_slice` and observe if it changes the original `matrix`."
      ],
      "metadata": {
        "id": "Rur_jEb0xpPL"
      }
    },
    {
      "cell_type": "code",
      "source": [
        "max = np.random.randint(1,100,(3,3))\n",
        "view_slice = max[0:2,0:2]\n",
        "view_slice[0,0] = 100\n",
        "print(max)\n",
        "print(view_slice)"
      ],
      "metadata": {
        "colab": {
          "base_uri": "https://localhost:8080/"
        },
        "id": "A_7CqMPxxrsm",
        "outputId": "d1a8d3bf-bf59-4050-e83e-6c59d3da8e75"
      },
      "execution_count": 32,
      "outputs": [
        {
          "output_type": "stream",
          "name": "stdout",
          "text": [
            "[[100  67  74]\n",
            " [ 94  93  10]\n",
            " [ 58   7  69]]\n",
            "[[100  67]\n",
            " [ 94  93]]\n"
          ]
        }
      ]
    },
    {
      "cell_type": "markdown",
      "source": [
        "78. Create a NumPy array `array_a` of shape (4, 3) with sequential integers from 1 to 12. Extract a slice\n",
        "`view_b` from `array_a` and broadcast the addition of 5 to view_b. Check if it alters the original `array_a`."
      ],
      "metadata": {
        "id": "sc85kiI6x4TT"
      }
    },
    {
      "cell_type": "code",
      "source": [
        "array_a = np.arange(1,13).reshape(4,3)\n",
        "view_b = array_a[0:2,0:2]\n",
        "view_b + 5"
      ],
      "metadata": {
        "colab": {
          "base_uri": "https://localhost:8080/"
        },
        "id": "68yijVFLx1PT",
        "outputId": "95db7d3d-d1b4-400a-b8bd-1eaa1637394a"
      },
      "execution_count": 33,
      "outputs": [
        {
          "output_type": "execute_result",
          "data": {
            "text/plain": [
              "array([[ 6,  7],\n",
              "       [ 9, 10]])"
            ]
          },
          "metadata": {},
          "execution_count": 33
        }
      ]
    },
    {
      "cell_type": "markdown",
      "source": [
        "79. Create a NumPy array `orig_array` of shape (2, 4) with values from 1 to 8. Create a reshaped view\n",
        "`reshaped_view` of shape (4, 2) from orig_array. Modify an element in `reshaped_view` and check if it\n",
        "reflects changes in the original `orig_array`."
      ],
      "metadata": {
        "id": "xFAC-GwoyFH1"
      }
    },
    {
      "cell_type": "code",
      "source": [
        "orig_array = np.arange(1,9).reshape(2,4)\n",
        "reshaped_view = orig_array.reshape(4,2)\n",
        "reshaped_view[0,0] = 10\n",
        "print(orig_array)\n",
        "print(reshaped_view)"
      ],
      "metadata": {
        "colab": {
          "base_uri": "https://localhost:8080/"
        },
        "id": "dTcMHHLTx86b",
        "outputId": "ff1e6b87-5eac-4ef1-aa6a-6bf522c68d9a"
      },
      "execution_count": 35,
      "outputs": [
        {
          "output_type": "stream",
          "name": "stdout",
          "text": [
            "[[10  2  3  4]\n",
            " [ 5  6  7  8]]\n",
            "[[10  2]\n",
            " [ 3  4]\n",
            " [ 5  6]\n",
            " [ 7  8]]\n"
          ]
        }
      ]
    },
    {
      "cell_type": "markdown",
      "source": [
        "80. Create a NumPy array `data` of shape (3, 4) with random integers. Extract a copy `data_copy` of\n",
        "elements greater than 5. Modify an element in `data_copy` and verify if it affects the original `data`."
      ],
      "metadata": {
        "id": "PRKC17PjyTj7"
      }
    },
    {
      "cell_type": "code",
      "source": [
        "data = np.random.randint(1,100,(3,4))\n",
        "data_copy = data[data>5].copy()\n",
        "data_copy[0] = 100\n",
        "print(data)\n",
        "print(data_copy)"
      ],
      "metadata": {
        "colab": {
          "base_uri": "https://localhost:8080/"
        },
        "id": "Ac4RVMpeyKgj",
        "outputId": "b894ce33-42b9-42b1-eacb-34fa8a35f3b9"
      },
      "execution_count": 36,
      "outputs": [
        {
          "output_type": "stream",
          "name": "stdout",
          "text": [
            "[[26 94 28 89]\n",
            " [60 30  7 20]\n",
            " [43 11 86 94]]\n",
            "[100  94  28  89  60  30   7  20  43  11  86  94]\n"
          ]
        }
      ]
    },
    {
      "cell_type": "markdown",
      "source": [
        "81. Create two matrices A and B of identical shape containing integers and perform addition and subtraction\n",
        "operations between them."
      ],
      "metadata": {
        "id": "Dxue1n_ryYn7"
      }
    },
    {
      "cell_type": "code",
      "source": [
        "a = np.random.randint(1,100,(3,3))\n",
        "b = np.random.randint(1,100,(3,3))\n",
        "print(a+b)\n",
        "print(a-b)"
      ],
      "metadata": {
        "colab": {
          "base_uri": "https://localhost:8080/"
        },
        "id": "XVD9ji1lyXS7",
        "outputId": "46502235-9611-427c-f57a-8255d2195c63"
      },
      "execution_count": 37,
      "outputs": [
        {
          "output_type": "stream",
          "name": "stdout",
          "text": [
            "[[142 137 134]\n",
            " [ 71 128  78]\n",
            " [109 126 106]]\n",
            "[[-42 -17  20]\n",
            " [ 41   2  46]\n",
            " [-71 -30  22]]\n"
          ]
        }
      ]
    },
    {
      "cell_type": "markdown",
      "source": [
        "82. Generate two matrices `C` (3x2) and `D` (2x4) and perform matrix multiplication."
      ],
      "metadata": {
        "id": "i0dyc1A9ye6-"
      }
    },
    {
      "cell_type": "code",
      "source": [
        "c = np.random.randint(1,100,(3,2))\n",
        "d = np.random.randint(1,100,(2,4))\n",
        "np.dot(c,d)"
      ],
      "metadata": {
        "colab": {
          "base_uri": "https://localhost:8080/"
        },
        "id": "aDfNjUMtyd_j",
        "outputId": "f388a3e0-1b6f-4048-84fd-2ae8a08bfa84"
      },
      "execution_count": 38,
      "outputs": [
        {
          "output_type": "execute_result",
          "data": {
            "text/plain": [
              "array([[3336, 5343, 2446, 3671],\n",
              "       [3104, 2945, 2426, 3241],\n",
              "       [3374, 5348, 2478, 3708]])"
            ]
          },
          "metadata": {},
          "execution_count": 38
        }
      ]
    },
    {
      "cell_type": "markdown",
      "source": [
        "83. Create a matrix `E` and find its transpose"
      ],
      "metadata": {
        "id": "QnC2JJO4ylC7"
      }
    },
    {
      "cell_type": "code",
      "source": [
        "e = np.random.randint(1,100,(3,3))\n",
        "e.T"
      ],
      "metadata": {
        "colab": {
          "base_uri": "https://localhost:8080/"
        },
        "id": "jiGbbioLyj-6",
        "outputId": "67e943d2-6b8b-4a46-f303-3da3c9ccdfe8"
      },
      "execution_count": 39,
      "outputs": [
        {
          "output_type": "execute_result",
          "data": {
            "text/plain": [
              "array([[53, 29, 78],\n",
              "       [23, 56, 11],\n",
              "       [ 8, 90, 40]])"
            ]
          },
          "metadata": {},
          "execution_count": 39
        }
      ]
    },
    {
      "cell_type": "markdown",
      "source": [
        "84. Generate a square matrix `F` and compute its determinant."
      ],
      "metadata": {
        "id": "iXprr9SJyrE9"
      }
    },
    {
      "cell_type": "code",
      "source": [
        "f = np.random.randint(1,100,(3,3))\n",
        "np.linalg.det(f)"
      ],
      "metadata": {
        "colab": {
          "base_uri": "https://localhost:8080/"
        },
        "id": "VOdagePEypHj",
        "outputId": "e91b82a7-ba7d-4e91-eb75-8ea0fa39183c"
      },
      "execution_count": 40,
      "outputs": [
        {
          "output_type": "execute_result",
          "data": {
            "text/plain": [
              "137685.9999999998"
            ]
          },
          "metadata": {},
          "execution_count": 40
        }
      ]
    },
    {
      "cell_type": "markdown",
      "source": [
        "85. Create a square matrix `G` and find its inverse"
      ],
      "metadata": {
        "id": "lIh8mUKzyvj7"
      }
    },
    {
      "cell_type": "code",
      "source": [
        "g = np.random.randint(1,100,(3,3))\n",
        "np.linalg.inv(g)"
      ],
      "metadata": {
        "colab": {
          "base_uri": "https://localhost:8080/"
        },
        "id": "Mui9j9MVytRa",
        "outputId": "e75dc327-dcb2-423e-c55f-76cc81e08189"
      },
      "execution_count": 41,
      "outputs": [
        {
          "output_type": "execute_result",
          "data": {
            "text/plain": [
              "array([[-0.00473464, -0.01505284,  0.0186081 ],\n",
              "       [ 0.01816939,  0.00722445, -0.01725778],\n",
              "       [-0.01804974,  0.02324018,  0.00836396]])"
            ]
          },
          "metadata": {},
          "execution_count": 41
        }
      ]
    },
    {
      "cell_type": "code",
      "source": [],
      "metadata": {
        "id": "vJB11DhkyyXK"
      },
      "execution_count": null,
      "outputs": []
    }
  ]
}